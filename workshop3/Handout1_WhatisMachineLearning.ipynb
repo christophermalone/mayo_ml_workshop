{
  "nbformat": 4,
  "nbformat_minor": 0,
  "metadata": {
    "colab": {
      "provenance": []
    },
    "kernelspec": {
      "name": "python3",
      "display_name": "Python 3"
    },
    "language_info": {
      "name": "python"
    }
  },
  "cells": [
    {
      "cell_type": "markdown",
      "source": [
        "# Handout #1: What is Machine Learning"
      ],
      "metadata": {
        "id": "cDw28z3jDlGg"
      }
    },
    {
      "cell_type": "markdown",
      "source": [
        "\n",
        "\n",
        "---\n",
        "\n",
        "\n",
        "\n",
        "---\n",
        "\n"
      ],
      "metadata": {
        "id": "lNYYzPXIc2-6"
      }
    },
    {
      "cell_type": "markdown",
      "source": [
        "Content Authors:\n",
        "\n",
        "\n",
        "*   Chris Malone Ph D, Professor of Data Science and Statistics, Winona State University; Email: cmalone@winona.edu\n",
        "*   Collin Engstrom PhD, Assistant Professor of Computer Science, Winona State University; Email: collin.engstrom@winona.edu"
      ],
      "metadata": {
        "id": "Y0bH8nkrDsL_"
      }
    },
    {
      "cell_type": "markdown",
      "source": [
        "Content in this handout was adapted from the following sources.\n",
        "*  AI for Everyone (Coursera) [ https://www.coursera.org/learn/ai-for-everyone ]\n",
        "\n",
        "* AI at the Edge - Daniel Situnayake and Jenny Plunkett [ https://www.oreilly.com/library/view/ai-at-the/9781098120191/ ]\n",
        "\n",
        "* UC Berkely School of Information - What is Machine Learning [ https://ischoolonline.berkeley.edu/blog/what-is-machine-learning/ ]\n",
        "\n",
        "* IBM - What is Machine Learning [ https://www.ibm.com/think/topics/machine-learning ]"
      ],
      "metadata": {
        "id": "OTxF5LH8Du2P"
      }
    },
    {
      "cell_type": "markdown",
      "source": [
        "\n",
        "\n",
        "---\n",
        "\n",
        "\n",
        "\n",
        "---\n",
        "\n"
      ],
      "metadata": {
        "id": "n1-y1HMKc1Pp"
      }
    },
    {
      "cell_type": "markdown",
      "source": [
        "## What is Machine Learning"
      ],
      "metadata": {
        "id": "w6-NFPgpqqfj"
      }
    },
    {
      "cell_type": "markdown",
      "source": [
        "Machine learning (ML) is a branch of artificial intelligence (AI) focused on enabling computers and machines to imitate the way that humans learn, to perform tasks autonomously, and to improve their performance and accuracy through experience and exposure to more data."
      ],
      "metadata": {
        "id": "IEHU6G0ItUOe"
      }
    },
    {
      "cell_type": "markdown",
      "source": [
        "<p align='center'><a href=\"https://www.youtube.com/watch?v=PeMlggyqz0Y\"><img src=\"https://drive.google.com/uc?export=view&id=19MJHkVSuc6evbecfoQHIUQF_OXySlzLR\" width='75%' height='75%' border='1'></img></a>\n",
        "<br><font size='-1'>Source: <a href=\"https://www.youtube.com/watch?v=PeMlggyqz0Y\">https://www.youtube.com/watch?v=PeMlggyqz0Y</a></font>\n",
        "</p>"
      ],
      "metadata": {
        "id": "qYU4IQgwtUsN"
      }
    },
    {
      "cell_type": "markdown",
      "source": [
        "**Goal**: To create models that can make predictions or make decisions based on data.\n",
        "\n",
        "Understanding the core components when disussing machine learning will be helpful.  Consider the following list of core elements of machine learning.\n",
        "\n",
        "* **Data**: Inputs used to build a model\n",
        "\n",
        "* **Features**: Specific attributes or variables used for building a model\n",
        "\n",
        "* **Training**: The process of feeding data to the model to help the model iteratively learn\n",
        "\n",
        "*  **Model**: The algorithm or mathematical structure that builds the predictive model\n",
        "\n",
        "* **Prediction/Inference**: Using the model to make predictions or make decisions\n",
        "\n",
        "\n"
      ],
      "metadata": {
        "id": "YtYr9BfVqvRj"
      }
    },
    {
      "cell_type": "markdown",
      "source": [
        "<p align='center'><img src=\"https://drive.google.com/uc?export=view&id=1lod1v_98Ar2_KbQRl9BXWDLEi5f8j-um\" width='50%' height='50%'></img>\n",
        "<br><font size='-1'>Source: Image generated using OpenAI’s DALL·E via ChatGPT on May 20, 2025.</font>\n",
        "</p>\n"
      ],
      "metadata": {
        "id": "ol8ZiGsby6Bx"
      }
    },
    {
      "cell_type": "markdown",
      "source": [
        "A machine learning algorithm is comprised of three main parts.\n",
        "\n",
        "* **Model**: A machine learning model can be used to *classify* or *make predictions*.  The model takes either labeled data (i.e. each record includes a collection of inputs and a known output) or unlabeled data (i.e. each record includes a collection of inputs) and will attempt to discover underlying patterns in the data.\n",
        "\n",
        "* **Error Function**:  The error function is used to evaluate the quality of the model.\n",
        "\n",
        "* **Optimization Process**:  The quality of the fit from the model is measured, the model will automatically adjusts itself to reduce the amount of error from the fit.  The algorithm will repeat this \"evalute and adjust\" proess until a threshold of accuracy has been met.  "
      ],
      "metadata": {
        "id": "zU7p5eKr2KrG"
      }
    },
    {
      "cell_type": "markdown",
      "source": [
        "## Types of Machine Learning"
      ],
      "metadata": {
        "id": "8doamMWgzu2T"
      }
    },
    {
      "cell_type": "markdown",
      "source": [
        "There are a vareity of machine learning algorithms which can be categorized into four broard groups.\n",
        "\n",
        "* **Supervised Learning**: Supervised machine learning is defined by its use of a labeled (i.e. each record consists of a collection of inputs and a known output) data to train an algorithm to classify or predict outcomes. The labeled data is fed into the model, the model will automatically adjust itself until a threshold of accuracy has been meet. Cross validation is used to ensure that the model avoids the overfitting of data. Some common supervised machine learning methods include: linear regression, logistic regression, decision trees, random forests, and neural networks.\n",
        "\n",
        "* **Unsupervised Learning**:  Unsupervised machine learning is defined by its use of an unlabeled (each record only consists of a collecton of inputs) data to train an algorithm to uncover hidden patterns or groupings within the data. Unsupervised learning’s ability to discover similarities and differences in information make it ideal for image and pattern recognition. Some unsupervised machine learning methods are meant to work with high-dimensional data, e.g. principal component analysis (PCA) and singular value decomposition (SVD); whereas, others are used in group obsevation by similarity into clusters, e.g. k-mean clustering."
      ],
      "metadata": {
        "id": "LQq9wXWe6oyg"
      }
    },
    {
      "cell_type": "markdown",
      "source": [
        "<p align='center'><img src=\"https://drive.google.com/uc?export=view&id=1v3jv83ktv9kQNffbgND7kDRJHgBoqyFl\" width='50%' height='50%'></img><br><font size='-2'>Source: https://sharpsight.ai/blog/upervised-vs-unsupervised-learning/</font>\n",
        "</p>\n"
      ],
      "metadata": {
        "id": "0CQk4QdU8EgJ"
      }
    },
    {
      "cell_type": "markdown",
      "source": [
        "* **Reinforced Learning**: Reinforcement learning is a type of machine learning where a system learns by interacting with an environment to achieve a specific goal. Instead of using an algorithm or structured mathematical model, the system learns through trial and error - receiving rewards for good actions and penalties for bad actions.  Over time, the system develops a strategy that maximizes the total reward it earns. Some examples of reinforced learning include autonomous robots, self-drivig cars, etc.\n",
        "\n",
        "* **Deep Learning**: Deep learning is a specialized branch of machine learning that uses neural networks with many layers.  These models are inspired by how the human brain processes information and are capable of automatically learning complex patterns from large amounts of data.  Unlike traditional machine learning methods, deep learning algorithms learn to extract features directly from raw data and are exceptionally powerful for analyzing images, audio, and text."
      ],
      "metadata": {
        "id": "UiWO-upgAguN"
      }
    },
    {
      "cell_type": "markdown",
      "source": [
        "## Predictive AI vs Generative AI"
      ],
      "metadata": {
        "id": "g4h5qKyCEysp"
      }
    },
    {
      "cell_type": "markdown",
      "source": [
        "This section includes a brief disussion of  **preditive** artificial intelligence and **generative** artificial intelligence."
      ],
      "metadata": {
        "id": "FuMq3gwkE4Lo"
      }
    },
    {
      "cell_type": "markdown",
      "source": [
        "* **Predictive AI**:  The purpose of predictive AI is to make a **prediction**.  Predictive AI uses some type of machine learning algorithm to find patterns in data.  The outcome from a predictive AI system for a classification problem is a label (e.g. \"Yes\" - patient has diabetes or \"No\" - patient does not have diabetes) and the outcome from a predictive AI system for a regression problem is a numerical value (e.g. survivability score for an organ transplant patient).\n",
        "\n",
        "<p align='center'><img src=\"https://drive.google.com/uc?export=view&id=165yY0oq2Na1YvkQfXSyRLEhotZ38zIpo\" width='50%' height='50%'></img>\n",
        "</p>\n"
      ],
      "metadata": {
        "id": "wOmM2lzyFkoJ"
      }
    },
    {
      "cell_type": "markdown",
      "source": [
        "* **Generative AI**:  Generative AI refers to a class of artificial intelligence models that are designed to generate new content based on patterns learned from existing data. Instead of just analyzing or classifying data, these models can create entirely new information that mimics the style, structure, or format of the inputs they were trained on.\n",
        "\n"
      ],
      "metadata": {
        "id": "IHq7U0buOC--"
      }
    },
    {
      "cell_type": "markdown",
      "source": [
        "## <font color='red'><strong>Case Study</strong> : Prompt ChatGPT 4.0 to Create a Science Experiment using Generative AI</font>"
      ],
      "metadata": {
        "id": "1hnGx7yZRQZ_"
      }
    },
    {
      "cell_type": "markdown",
      "source": [
        "Consider the following simple example to showcase what generative AI is able to do.  Here, ChatGPT 4.0 was prompted to create a simple science experiment to compare the amount that nails would rust in four differnt types of soda.  The exact prompt is provided in Figure 1.\n",
        "\n",
        "<p align='center'><img src=\"https://drive.google.com/uc?export=view&id=1XmhTvD0UB4lQNyfQL1dpN-Yz5OMtRcrW\" width='100%' height='100%' border='1'></img><br>Figure 1. <font size='-2'>Source: OpenAI ChatGPT Version 4.0; May 21, 2025.</font>\n",
        "</p>"
      ],
      "metadata": {
        "id": "7rNYoNoMPfpl"
      }
    },
    {
      "cell_type": "markdown",
      "source": [
        "ChatGPT 4.0 created new content using patterns learned from existing information around simple science experiments. The output returned from this prompt is provided below and is include in Figure 2a and 2b.\n",
        "\n",
        "Science Experiment Worksheet: [ Link ](https://docs.google.com/document/d/1syZvXCqY-g0eC7Wb1jOiCciC9a7ncZVf/edit?usp=sharing&ouid=107480654748844323422&rtpof=true&sd=true)"
      ],
      "metadata": {
        "id": "8lOuSvLcQ-0W"
      }
    },
    {
      "cell_type": "markdown",
      "source": [
        "<table border='0'>\n",
        "<tr>\n",
        "<td align='center' valign='top'>Page 1<br><br><img src=\"https://drive.google.com/uc?export=view&id=1363s5qmqZJ5DOAKkV11SdfbZ3bdrAVXl\" width='100%' height='100%'></img>\n",
        "<br>Figure 2a. <font size='-2'>Source: OpenAI ChatGPT Version 4.0; May 21, 2025.</font>\n",
        "</td>\n",
        "<td align='center' valign='top'>\n",
        "Page 2<br><br><img src=\"https://drive.google.com/uc?export=view&id=12fceNLth_LT-WwaXhiZSLTpd5PCg4O-5\" width='100%' height='100%' border='1'></img>\n",
        "<br>Figure 2b. <font size='-2'>Source: OpenAI ChatGPT Version 4.0; May 21, 2025.</font>\n",
        "</td>\n",
        "</tr>\n",
        "</table>\n"
      ],
      "metadata": {
        "id": "k8VlR7UkPsYu"
      }
    },
    {
      "cell_type": "markdown",
      "source": [
        "\n",
        "\n",
        "---\n",
        "\n",
        "\n",
        "\n",
        "---\n",
        "End of Document\n"
      ],
      "metadata": {
        "id": "whN6gjNETOu3"
      }
    }
  ]
}