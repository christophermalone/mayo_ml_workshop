{
  "nbformat": 4,
  "nbformat_minor": 0,
  "metadata": {
    "colab": {
      "provenance": [],
      "collapsed_sections": [
        "0OptQdHOKVAt",
        "h96ODf3Zw4D1",
        "6OUcjesRZ-KR"
      ]
    },
    "kernelspec": {
      "name": "python3",
      "display_name": "Python 3"
    },
    "language_info": {
      "name": "python"
    }
  },
  "cells": [
    {
      "cell_type": "markdown",
      "source": [
        "# Handout #2: Problem Framing with Machine Learning"
      ],
      "metadata": {
        "id": "cDw28z3jDlGg"
      }
    },
    {
      "cell_type": "markdown",
      "source": [
        "\n",
        "\n",
        "---\n",
        "\n",
        "\n",
        "\n",
        "---\n",
        "\n"
      ],
      "metadata": {
        "id": "lNYYzPXIc2-6"
      }
    },
    {
      "cell_type": "markdown",
      "source": [
        "Content Authors:\n",
        "\n",
        "\n",
        "*   Chris Malone Ph D, Professor of Data Science and Statistics, Winona State University; Email: cmalone@winona.edu\n",
        "*   Collin Engstrom PhD, Assistant Professor of Computer Science, Winona State University; Email: collin.engstrom@winona.edu"
      ],
      "metadata": {
        "id": "Y0bH8nkrDsL_"
      }
    },
    {
      "cell_type": "markdown",
      "source": [
        "Content in this handout was adapted from the following sources.\n",
        "*  AI for Everyone (Coursera) [ https://www.coursera.org/learn/ai-for-everyone ]\n",
        "\n",
        "* AI at the Edge - Daniel Situnayake and Jenny Plunkett [ https://www.oreilly.com/library/view/ai-at-the/9781098120191/ ]"
      ],
      "metadata": {
        "id": "OTxF5LH8Du2P"
      }
    },
    {
      "cell_type": "markdown",
      "source": [
        "\n",
        "\n",
        "---\n",
        "\n",
        "\n",
        "\n",
        "---\n",
        "\n"
      ],
      "metadata": {
        "id": "n1-y1HMKc1Pp"
      }
    },
    {
      "cell_type": "markdown",
      "source": [
        "## Workflow for Edge AI"
      ],
      "metadata": {
        "id": "KT_8e-d-8oTS"
      }
    },
    {
      "cell_type": "markdown",
      "source": [
        "Edge AI involves running algorithms and models directly on devices near the edge of the network, meaning close to the data source, rather than relying on centralized cloud infrastructure. This approach offers benefits like real-time processing which likely reduces latency."
      ],
      "metadata": {
        "id": "4gCSGWAwGhYl"
      }
    },
    {
      "cell_type": "markdown",
      "source": [
        "<p align='center'><img src=\"https://drive.google.com/uc?export=view&id=1-nx45vbqF28uLomnsthXhxUdBmc2UwNi\" width='35%' height='35%' border='1'></img>\n",
        "<br><font size='-2'>Figure 1 - Source: <a href=\"https://medium.com/@gupta.brij/edge-intelligence-a-new-emerging-era-afb8b3f74f8\">Medium.com/@gupta.brij</a></font>\n",
        "</p>"
      ],
      "metadata": {
        "id": "2yc9JLHR8pea"
      }
    },
    {
      "cell_type": "markdown",
      "source": [
        "Figure 1 is an example of two distinct edge servers being connected to a data center hosted on the cloud.  Next, let's consider a single edge server and it's possible configuration."
      ],
      "metadata": {
        "id": "htN-4JAUBGuC"
      }
    },
    {
      "cell_type": "markdown",
      "source": [
        "<table border='0'>\n",
        "<tr>\n",
        "<td align='center' valign='top'>Macro View<br><br><img src=\"https://drive.google.com/uc?export=view&id=1mz948zTTLT-aev-xiVHRj3rXYEeXsTud\" width='75%' height='75%'></img>\n",
        "<br>Figure 2a - <font size='-2'>Source: <a href=\"https://medium.com/@gupta.brij/edge-intelligence-a-new-emerging-era-afb8b3f74f8\">Medium.com/@gupta.brij</a></font>\n",
        "</td>\n",
        "<td align='center' valign='top'>\n",
        "Mirco View<br><br><img src=\"https://drive.google.com/uc?export=view&id=1R8SXQy3c36OBBXOznlfjQ2Kn1Z4DfvJr\" width='100%' height='100%' border='1'></img>\n",
        "<br>Figure 2b - <font size='-2'>Adapted from: <a href=\"https://edgeimpulse.com/\">Edge Impulse Documentation</a></font>\n",
        "</td>\n",
        "</tr>\n",
        "</table>"
      ],
      "metadata": {
        "id": "Bqvsyp-MBHHa"
      }
    },
    {
      "cell_type": "markdown",
      "source": [
        "An important element of an Edge AI workflow that uses machine learning is the inherent feedback between the various components.  After the project is deployed, the devices continue to collects raw data which is continually feed back through the process. Hence, machine learning models are continously evaluated and updated as needed.  The continous feedback has the potential for the system to improve upon itself over time."
      ],
      "metadata": {
        "id": "Z6jrjJN9BKea"
      }
    },
    {
      "cell_type": "markdown",
      "source": [
        "### Case Study #1 - Mobile CT Scanners in Ambulances"
      ],
      "metadata": {
        "id": "vNOWW9qSFkoC"
      }
    },
    {
      "cell_type": "markdown",
      "source": [
        "<table width='100%' ><tr><td bgcolor='green'></td></tr></table>\n",
        "\n",
        "**Problem**:  Stroke treatment is highly time-sensitive as patients lose a tremendous amount of neurons every minute during a stroke. Early and accurate diagnosis before arriving at the hospital significantly improves outcomes, but many emergency responders lack the necessary tools to do conduct brain scans within their emergencey vehicles.\n",
        "\n",
        "<p align='center'><img src=\"https://drive.google.com/uc?export=view&id=1_qN133IFMC3RC0_80Y9vJUubYgrZDDd_\" width='75%' height='75%'></img><br><font size='-2'>Source: https://www.instagram.com/p/CtHLRUOuVqN/</font>\n",
        "</p>\n",
        "\n",
        "**Edge AI Solution**:  Equip ambulances with portable CT scanners and AI-enabled edge processors to immediately analyze brain scans and provide information regarding best treatment options.\n",
        "\n",
        "- AI models on edge devices will quickly detect signs of ischemic or hemorrhagic strokes\n",
        "\n",
        "- Paramedics receive AI-guided decisions regarding best treatment options (e.g. dosage of thrombolysis for dissolving blood clots)\n",
        "\n",
        "- Scans / information can automatically be synced with the systems in hospital emergency rooms\n",
        "\n",
        "\n",
        "**Benefits**\n",
        "\n",
        "- Critical Time Savings: Faster decision-making and the patient can receive treatment before arrival to the emergency room\n",
        "\n",
        "- Better Outcomes: Enables faster access to tissue plasminogen activator (tPA) reducing disability and/or mortality\n",
        "\n",
        "- Autonomy in the Field: Works without internet which may be critical in rural with poor connectivity\n",
        "\n",
        "\n",
        "\n",
        "<table width='100%' ><tr><td bgcolor='green'></td></tr></table>"
      ],
      "metadata": {
        "id": "oMy4tbR_FwlR"
      }
    },
    {
      "cell_type": "markdown",
      "source": [
        "## Problem Description for Edge AI"
      ],
      "metadata": {
        "id": "dJSjEdtTWKch"
      }
    },
    {
      "cell_type": "markdown",
      "source": [
        "One of the first steps in deciding whether or not Edge AI will be beneficial is to provide a high-level summary and an understanding of barriers and constraints to solving this problem."
      ],
      "metadata": {
        "id": "FyKKfCt5WSfB"
      }
    },
    {
      "cell_type": "markdown",
      "source": [
        "*   High-level **summary** of the problem and an ideal solution\n",
        "*   Current **problems**\n",
        "*   **Contraints** to solving the problem"
      ],
      "metadata": {
        "id": "nvnoizmzXUbL"
      }
    },
    {
      "cell_type": "markdown",
      "source": [
        "### <font color='red'><strong>Task #1</strong> : Provide a brief summary, short list of possible problems, and identify some possible constraints for the case study presented above.</font>"
      ],
      "metadata": {
        "id": "E8yjhzHjakuO"
      }
    },
    {
      "cell_type": "markdown",
      "source": [
        "\n",
        "\n",
        "*   **Summary**: An ambulance equipped portable CT scanners and on-device analysis would allow paramedics to diagnose strokes before reaching the hospital. This would accelerate critical treatment decisions.  The Edge AI solution will likely improve patient outcomes as stroke care is highly time sensitive.\n",
        "*   **Problems**: 1) Cost Contraints - portable CT scanners can be expensive which would limit adoption in poorly funded EMS service regions (e.g. rural areas); 2) Accuracy and Reliability - image quaility of CT scans tend to be sensitive to movement which may be problematic in a mobile vehicle; In addition, the accuracy of the dosage of  thrombolysis is important as too much may result in additional brain bleeding; and\n",
        "3) Syncing edge devices in an ambulance to complex ER systems .\n",
        "may not be easy.\n",
        "*   **Contraints**:  1) Conducting a scan in the back of an ambulance will introduce motion and vibration which is know to adversely effect image quality, 2) Existing edge devices may not be capable of processing image data from CT scans, and 3) Paramedics will need to be trained on how to operate portable CT scanners.\n"
      ],
      "metadata": {
        "id": "QuFQEfjbXuvi"
      }
    },
    {
      "cell_type": "markdown",
      "source": [
        "## Deploy Edge AI or Not"
      ],
      "metadata": {
        "id": "HAVasIfldN0A"
      }
    },
    {
      "cell_type": "markdown",
      "source": [
        "Situnayake and Plunkett (2023) suggest the use of the **BLERP** tool to identify whether or not a problem would benefit from edge AI architecture. The various components of BLERP are provided here in the context of our case study.\n",
        "\n",
        "- **B**andwidth: Minimal for the use of a portable CT scanner and the running of AI algorithms on edge devices; Bandwidth requiements increase when syncing data between an ambulance and the emergency room - especially when sending images/scans across the two systems.\n",
        "\n",
        "- **L**atency:  The end-to-end latency (scan + analysis + treatment) could happen within a few minutes.  Time is of the essence regarding the treatment of patients who suffer from strokes.\n",
        "\n",
        "- **E**conomics: Considerable expense may be necessary to purchase portable CT scanners; additional expenses include the necessary Edge AI processing devices, software development and intergration, training of paramedics;  Early treatement of stroke patients may reduce length of hospital stay, reduce long-term care costs, etc.\n",
        "\n",
        "- **R**eliability:  Motion and vibration may negatively effect the image quality of portable CT scanner; AI models may not be as accurate for underrepresented patient populations\n",
        "\n",
        "- **P**rivacy:  Medical images are classifed as protected health information under HIPAA regulations; Ambulance networks may not secure - especially in rural areas; Edge devices will retain identifiable patient data."
      ],
      "metadata": {
        "id": "5_C6wMTFdieO"
      }
    },
    {
      "cell_type": "markdown",
      "source": [
        "In some situations, the **BLERP** tool may not sufficiently identify the need for edge AI for the problem.  For example, you might be better off using cloud computing than relying on edge computing.\n",
        "\n",
        "\n",
        "**Some Challenges to Edge Applications**:\n",
        "\n",
        "*   **Development Complexity**:  Embedded applications can be difficult to create and manage due to the complexitiy of the problem or limitations due to the device\n",
        "*   **Support**: Embedded development requires specific skills - a different skill set than cloud computing.  If your organization doesn't have access to embedded engineering talent, it may be better to run a project in the cloud.\n",
        "\n",
        "* **Limited Computing**:  The most powerful edge devices have nowhere near the computing power of cloud servers.\n",
        "\n",
        "* **Deployment Complexity**: The managment of applications installed across a wide-variety of edge devices can be challenging.  It be may easier to host your application in the cloud where updates are likely easier to work through.\n",
        "\n",
        "* **Hardware Costs**:  Deploying and supporting a network of edge devices can be expensive.  The expense will increase if you require high-end devices for maching learning workloads or custom hardware for a specific purpose.\n",
        "\n",
        "* **Flexibility**:  If your edge AI workflows outgrow your edge devices or your application may need to substantially change (e.g. buying new hardware)  On the other hand, workloads can more easily modified and scaled when using cloud computing.\n",
        "\n",
        "* **Security**:  There may be an increase in concerns around security when using edge devices compared to computing that takes place in the cloud.\n",
        "\n"
      ],
      "metadata": {
        "id": "pAps5ZhkqbDH"
      }
    },
    {
      "cell_type": "markdown",
      "source": [
        "## Do I Need Machine Learning"
      ],
      "metadata": {
        "id": "LaZDp7F4w1WL"
      }
    },
    {
      "cell_type": "markdown",
      "source": [
        "Edge AI architecture does not necessarily require the use of machine learning algorithms.  One should identify early on whether or not machine learning will be needed as the edge AI workflow can be simplified when machine learning is not needed.  If you don't need to use machine learning in your edge AI workflow - don't!\n"
      ],
      "metadata": {
        "id": "-m_EtCcwzLLM"
      }
    },
    {
      "cell_type": "markdown",
      "source": [
        "<p align='center'><font size='+2' color='red'><strong>Edge AI workflows that require the use of machine learning algorithms <br>will increase your timeline and budget</strong><font></p>"
      ],
      "metadata": {
        "id": "pwKeG0zr8ccl"
      }
    },
    {
      "cell_type": "markdown",
      "source": [
        "Automatted decision making is an important component of most edge AI workflows.  These decisions can be made using machine learning solution or a rule-based solution.  **Rule-based systems** are designed to use rules based on specific domain knowledge.   Consider Case Study #2 which will implement a rule-based decisions on an edge device."
      ],
      "metadata": {
        "id": "sgAKW8p61ESd"
      }
    },
    {
      "cell_type": "markdown",
      "source": [
        "### Case Study #2: Vital Sign Monitoring for Out-Patients Surgeries"
      ],
      "metadata": {
        "id": "v5ye_7dCy4J0"
      }
    },
    {
      "cell_type": "markdown",
      "source": [
        "<table width='100%' ><tr><td bgcolor='green'></td></tr></table>\n",
        "\n",
        "**Problem**:  After surgery, patients are at risk for complications such as infection, hypoxia, or cardiac distress. Continuous monitoring is critical, especially in step-down units or home recovery settings where full-time staff may not be present.\n",
        "\n",
        "<p align='center'><img src=\"https://drive.google.com/uc?export=view&id=1CAMwhYsyTSJM1Lnn4Ofk0XDbMaJwSFqi\" width='25%' height='25%'></img><br><font size='-2'>Source: Image generated using OpenAI’s DALL·E via ChatGPT on May 18, 2025.</font>\n",
        "</p>\n",
        "\n",
        "**Edge AI Solution**:  Use awearable smart patch with direct integration to a smart phone which allows the patient to continuously monitor their vital signs.\n",
        "\n",
        "*  Heart rate (HR)\n",
        "*  Respiratory rate (RR)\n",
        "*  Body temperature\n",
        "*  Blood oxygen saturation (SpO₂)\n",
        "\n",
        "The device applies pre-programmed rules such as:\n",
        "\n",
        "*  IF temperature > 100.4°F for 2 consecutive readings THEN trigger alert: “Possible post-op infection.”\n",
        "\n",
        "* IF SpO₂ < 92% THEN trigger alert: “Potential respiratory distress.”\n",
        "\n",
        "* IF HR > 120 bpm AND RR > 24 THEN trigger alert: “Cardiopulmonary risk.”\n",
        "\n",
        "All processing is performed on the edge device to ensure real-time response.\n",
        "\n",
        "\n",
        "**Benefits**\n",
        "\n",
        "*  Predictable thresholds are clinically validated and do not require machine learing algorithms.\n",
        "\n",
        "*  Medical staff understand and trust explicit thresholds.\n",
        "\n",
        "*  Offline-capable which is essential for rural or home care settings with unreliable connectivity.\n",
        "\n",
        "\n",
        "\n",
        "<table width='100%' ><tr><td bgcolor='green'></td></tr></table>"
      ],
      "metadata": {
        "id": "ezr6TY1_w7Gk"
      }
    },
    {
      "cell_type": "markdown",
      "source": [
        "## Benefits of a Rule-Based Solution"
      ],
      "metadata": {
        "id": "0qv1R_3s7edk"
      }
    },
    {
      "cell_type": "markdown",
      "source": [
        "A rule-based system is based on information that is well understood.  These sytems and are often seen as more reliable, trustworthy, and safe.  If a rule-based system is available for your problem - use it over a machine learning solution.  The rule-based solution is likely easier to develop, support, and interpret than a machine learning solution.  Futhermore, rule-based systems require less computing power."
      ],
      "metadata": {
        "id": "u13FAWge75wE"
      }
    },
    {
      "cell_type": "markdown",
      "source": [
        "<p align='center'><font size='+2' color='red'><strong>If there's a rule-based solution available for your problem - choose it over a machine learning solution</strong><font></p>"
      ],
      "metadata": {
        "id": "uP1Wp2hd8fdl"
      }
    },
    {
      "cell_type": "markdown",
      "source": [
        "A comparison of Figure 2b with Figure 3 helps to communicate the simplification of a rule-based pipeline compared to a machine learning pipeline in an edge AI setting. Notice that the Edge Server need only make a simple IF-THEN type decisions and the feedback loop is simplified considerable."
      ],
      "metadata": {
        "id": "iVUbpZuVvXPN"
      }
    },
    {
      "cell_type": "markdown",
      "source": [
        "<p align='center'><img src=\"https://drive.google.com/uc?export=view&id=1M-V0eHdPlovhG28ZuaaASMp94AmaKRCF\" width='75%' height='75%'></img>\n",
        "<br><font size='-2'>Figure 3 - Adapted from: <a href=\"https://edgeimpulse.com/\">Edge Impulse Documentation</a></font>\n",
        "</p>\n"
      ],
      "metadata": {
        "id": "Z-JS0y_euyik"
      }
    },
    {
      "cell_type": "markdown",
      "source": [
        "Unfortunately, not all edge AI workflows can use a existing rule-based solution.  Rule-based algorithms may require extensive research or domain knowledge whcih may not be readily available for a given project.  In these types of situations, there is an opportunity to leverage machine learning algorithms.\n",
        "\n",
        "**Possible Shortcomings of Rule-Based Systems**\n",
        "\n",
        "*  Rule-based systems may require significant research and development to understand the sometimes complex and often noisy data collected from your edge devices.\n",
        "\n",
        "*  For some problems, there may be too many variables (inputs) for a rule-based system to be feasible (e.g. image data)."
      ],
      "metadata": {
        "id": "KUmg_n-JvLft"
      }
    },
    {
      "cell_type": "markdown",
      "source": [
        "## Advantages of a Machine Learning Solution"
      ],
      "metadata": {
        "id": "bl0SCIjVwFA-"
      }
    },
    {
      "cell_type": "markdown",
      "source": [
        "Data tends to be messy and noisy.  Data cleaning techniques can be used to reduce the messiness in data.  Machine learning models have the ability to seperate signal from noise in data.  During the training phase of developing a model, noise is filtered out of the data and the signal remains.  The signal is the important information which is used to make decisions within the edge AI system.\n",
        "\n",
        "Machine learning models are useful to identify hidden patterns that exist withing the training data.  Machine learning models allow relationships that exist in data to be uncovered.  In addition, machine learning models can be used to identify the relevence of the various inputs on the outcome of interest."
      ],
      "metadata": {
        "id": "RY-9_Q4RA8lw"
      }
    },
    {
      "cell_type": "markdown",
      "source": [
        "<p align='center'><img src=\"https://drive.google.com/uc?export=view&id=1x-abFAPGdOGjrLSv6WlvNIbVLBXJB4hU\" width='50%' height='50%' border='1'></img>\n",
        "<br><font size='-1'>Source: Image generated using OpenAI’s DALL·E via ChatGPT on May 18, 2025.</font>\n",
        "</p>\n"
      ],
      "metadata": {
        "id": "b4UHiCud4n9Q"
      }
    },
    {
      "cell_type": "markdown",
      "source": [
        "\n",
        "\n",
        "1.   **Automation of Tasks**:  Machine learning models have the ability to learn from data which may be leveraged in the automations of completing tasks that may be difficult to program directly (e.g., object recognition, natural language processing, etc).\n",
        "\n",
        "2.   **Decision Making at the Edge**: When machine learning models are run on edge devices, decisions can be made locally and quickly which reduces response time.\n",
        "\n",
        "3.   **Ability to Improve Over Time**: Machine learning algorithms have the ability to self improve which may perform better than rule-based systems.\n",
        "\n",
        "4.    **Scalability and Adaptability**: When machine learning models have been trained properly, these models may be replicated across other devices or environments.\n",
        "\n",
        "5.    **Personalization**: Machine learning, especially when intergrated with AI, allows for a more personalized user experience by way of learning from an individual preferences and behaviors."
      ],
      "metadata": {
        "id": "Iwo5A8MHzy3G"
      }
    },
    {
      "cell_type": "markdown",
      "source": [
        "### <font color='red'><strong>Task #2</strong> : Consider Case Study #1 - what components of this problem would benefit from the use of machine learning?\n"
      ],
      "metadata": {
        "id": "0OptQdHOKVAt"
      }
    },
    {
      "cell_type": "markdown",
      "source": [
        "*  **Analysis of CT Scans**:  Machine learning models can be trained on existing brain scans to identify the type and serverity of the stroke.  These models may be able to detect patters missed by human observers.  \n",
        "\n",
        "* **Personalized Treatment**: Machine learning models can be used to provide patient-specific treatment, e.g. recommended tPA dosage, identify specific risks, etc.\n",
        "\n",
        "* **Quicker Decision Making**:  Machine learning would be able to evaluate CT scans accurately within seconds which is important for stroke patients.  Futhermore, approprite dosage of tPA medications will result in better in a better outcome for the patient."
      ],
      "metadata": {
        "id": "7Hj_lDKOKX8o"
      }
    },
    {
      "cell_type": "markdown",
      "source": [
        "## Some Disadvantages of a Machine Learning Solution"
      ],
      "metadata": {
        "id": "ln65ssw6wcvF"
      }
    },
    {
      "cell_type": "markdown",
      "source": [
        "Generally speaking, there are three noteable disadvantages to using a machine learning solution in edge AI.\n",
        "\n",
        "* Data Requirements\n",
        "* Lack of Explainability\n",
        "* Susceptible to Bias"
      ],
      "metadata": {
        "id": "ZiW89PIVweeO"
      }
    },
    {
      "cell_type": "markdown",
      "source": [
        "<p align='center'><img src=\"https://drive.google.com/uc?export=view&id=1wGU58GHMzYtbVckSOCOj2uRDPwM_2EOZ\" width='50%' height='50%' border='1'></img>\n",
        "<br><font size='-1'>Source: Image generated using OpenAI’s DALL·E via ChatGPT on May 19, 2025.</font>\n",
        "</p>\n"
      ],
      "metadata": {
        "id": "of5l1suzw27O"
      }
    },
    {
      "cell_type": "markdown",
      "source": [
        "The following list provides some discussion around each of these disadvantages.\n",
        "\n",
        "\n",
        "*  **Data Requirements**: Machine learning models need large high-quality datasets to perform effectively.  In addition, these datasets should represent various subpopulations of interest.  \n",
        "\n",
        "*  **Lack of Explainability**: Many machine learning models operate as black boxes making their decision-making processes difficult to understand and interpret. This is problematic in domains such as healthcare where accountability and transparency are essential.  Rule-based models provide an exact response; whereas, machine learning algorithms have origins in statistics which rely on probability distributions that indicate the *most likely* outcome.\n",
        "\n",
        "\n",
        "<p align='center'><img src=\"https://drive.google.com/uc?export=view&id=1bZ12ysPgy8IIF_E-EaOPcnxdSH6AmWNh\" width='50%' height='50%'></img>\n",
        "<br><font size='-1'>Source: https://www.researchgate.net/figure/What-are-black-box-models-2_fig1_382063954</font>\n",
        "</p>\n",
        "\n",
        "\n",
        "*  **Susceptibility to Bias**: If the data used to train the machine learning models contain historical biases or lacks representation of certain populations, the models may amplify the biases in the outcomes."
      ],
      "metadata": {
        "id": "KjqBVnjFyws_"
      }
    },
    {
      "cell_type": "markdown",
      "source": [
        "## Knowing When to Use Machine Learning"
      ],
      "metadata": {
        "id": "hvXAYnwZdKxJ"
      }
    },
    {
      "cell_type": "markdown",
      "source": [
        "Machine learning, and more generally AI, continues to gain a tremendous amount of attention.  However, machine learning algorithms are complex and have limitations and may inject unecessary risk into some edge AI problems."
      ],
      "metadata": {
        "id": "vWamSWBzdNRZ"
      }
    },
    {
      "cell_type": "markdown",
      "source": [
        "Consider the following checklist one can use to determine whether or not machine learning might be approprite for your edge AI problem.\n",
        "\n",
        "\n",
        "*   There is no existing rule-based solution and you don't have the resources to discover one.\n",
        "*   You have access to high-quality data or collecting such a data is feasible.\n",
        "*  You do not need to explain the exact methodology behind your system's decisison-making process.\n",
        "* Your system will not be exposed to new data that is beyond the scope of the training data.\n",
        "*  Your application can tolerate a degree of uncertainity."
      ],
      "metadata": {
        "id": "vm-1BJV4eCoI"
      }
    },
    {
      "cell_type": "markdown",
      "source": [
        "Some suggest that machine learning, and more generally AI, is best for automating simple tasks.  Another perspective on the use of machine learning and AI is to *augment* these models with more complex and difficult tasks. In particular, these models could be used to provide guidence when one is required to make difficult decisions. Patel, B. et al (2109) discuss a problem in which the combination of human intelligence augmented with machine learning methodology was proven to work better than either technique alone in a healthcare setting.  [Link - PDF](https://drive.google.com/file/d/1deErVDUKyiw_xGl5FOaDsTEC8qqMA95K/view?usp=sharing)"
      ],
      "metadata": {
        "id": "lT-xqOOMlWIA"
      }
    },
    {
      "cell_type": "markdown",
      "source": [
        "### <font color='red'><strong>Task #3</strong> : Opportunities to use Machine Learning in the Monitoring of Mental Health"
      ],
      "metadata": {
        "id": "h96ODf3Zw4D1"
      }
    },
    {
      "cell_type": "markdown",
      "source": [
        "Consider the following scenario that is centered around early detection of depression relapse using wearables.\n",
        "\n",
        "**Project Description**: A mental health clinic wants to be able to identify patients at risk of relapse into major depressive episodes. Patients will wear smartwatches that continuously collect data such as sleep patterns, physical activity, heart rate variability, and voice tone during brief daily check-ins.The goal is to detect subtle changes in behavior and physiology that often precede a clinical relapse. Due to the highly individualized nature of mental health, rule-based systems may not capture the nuanced patterns that are predictive of mental health relapse."
      ],
      "metadata": {
        "id": "58V_99HthN_c"
      }
    },
    {
      "cell_type": "markdown",
      "source": [
        "Provide a brief discussion around each of the following for this project.\n",
        "\n",
        "1.   Would a rule-based system suffice for this situation?\n",
        "2.   How might machine learning be used in this situation?\n",
        "3.   How might one overcome the disadvantages of machine learning (data, explainability, bias) for this situation?\n",
        "4.   Would an edge or cloud computing envirnoment work better in this situation?\n",
        "\n"
      ],
      "metadata": {
        "id": "5y3xujkmw_7O"
      }
    },
    {
      "cell_type": "markdown",
      "source": [
        "## Feasibility Aspects of an Edge AI Project"
      ],
      "metadata": {
        "id": "SWcqkUtixBf1"
      }
    },
    {
      "cell_type": "markdown",
      "source": [
        "One of your first steps in developing an Edge AI solution is to determine the feasibility of a successful outcome.  What would an *ideal* solution look like?  In answering this question, do not worry about resource or technological limitations as worrying about limitations early in the process may constrain what is possible.  \n",
        "\n",
        "After an ideal solution is identified, the feasibility of the edge AI project can be evaluated using four different perspectives.\n",
        "\n",
        "*  **Moral** - Should it be done?\n",
        "*  **Business** - Is there value?\n",
        "*  **Data** - Is there sufficient data?\n",
        "*  **Technology** - Can it be done?"
      ],
      "metadata": {
        "id": "MXD8RuqZBizY"
      }
    },
    {
      "cell_type": "markdown",
      "source": [
        "### Moral Feasibility"
      ],
      "metadata": {
        "id": "7wvJ-vfMFNbx"
      }
    },
    {
      "cell_type": "markdown",
      "source": [
        "Edge AI projects fail for a variety of reasons.  When an Edge AI projects fails due to technology, money and resources are wasted.  When an Edge AI project fails due to moral or ethical issues, the damage may be significantly greater (i.e. damange to reputation, cause direct harm to patients, etc).  A rigorous exploration of the ethical issues that could result from your edge AI application should done.  \n",
        "\n",
        "This exploration should consider the various stages of the process - early development, data collection, depolyment, and support.  Furthermore, this exploration should involve participation from a variety of members on your team as diversity in the perspectives is important in identifying the ethical issues."
      ],
      "metadata": {
        "id": "r2VZOzUDFRAZ"
      }
    },
    {
      "cell_type": "markdown",
      "source": [
        "The following list of questions will help guide the exploration of the ethical issues.\n",
        "\n",
        "1.   Who might be harmed by this solution?\n",
        "2.   Can the required data be obtained without violating the rights of individuals or organizations?\n",
        "3.  Is it possible to test the application without harming or violating the rights of individuals or organizations?\n",
        "4.  What the potential risks?  Have these been thoroughly documented?\n",
        "5.  Does the application work for all potential users?\n",
        "\n"
      ],
      "metadata": {
        "id": "ELxVSkTtHbhz"
      }
    },
    {
      "cell_type": "markdown",
      "source": [
        "<p align='center'><img src=\"https://drive.google.com/uc?export=view&id=1Ib_GJlcGuMRFtGfmm0kLRwNa3l8msYWf\" width='40%' height='40%'></img>\n",
        "<br><font size='-1'>Source: Image generated using OpenAI’s DALL·E via ChatGPT on May 19, 2025.</font>\n",
        "</p>\n"
      ],
      "metadata": {
        "id": "kcfnFomWLm8W"
      }
    },
    {
      "cell_type": "markdown",
      "source": [
        "Certainly, not all ethical issues will be identified through this process.  However, one way to reduce the risk of unforeseen issues is to make sure this process includes a diverse group of people from your team.  In addition, this exploration should include representation of stakeholders potentially affected by this application.  Ethical and moral evaluations do not end upon deployment of the application.  There should be a process in place for ethical reviews to happen continuously throughout the lifecylce of the application."
      ],
      "metadata": {
        "id": "JI99dZxdIXE0"
      }
    },
    {
      "cell_type": "markdown",
      "source": [
        "### Business Feasibility"
      ],
      "metadata": {
        "id": "w90rqwixKFo9"
      }
    },
    {
      "cell_type": "markdown",
      "source": [
        "There are two main components when considering the feasiblity of an edge AI project from a business perspective.\n",
        "\n",
        "\n",
        "1.   Does the solution add real value?\n",
        "2.   Can constraints be mitigated?\n",
        "\n"
      ],
      "metadata": {
        "id": "ot9XyhwCKJUN"
      }
    },
    {
      "cell_type": "markdown",
      "source": [
        "**Value**:  On effective way of demonstrating value of an edge AI application is to create a mock version of the application.  This mock version is superfically functional and controlled by human actions hidden by the end user.  This mock version should be tested by stackeholers - allowing one to get an understanding how it might work upon deployment and to compare the proposed solution against alternatives. If this mock experience is successful, this exercise can go a long way toward convincing stakeholders that this edge AI application is worth pursuing."
      ],
      "metadata": {
        "id": "TMH4YF2iMpAA"
      }
    },
    {
      "cell_type": "markdown",
      "source": [
        "**Constraints**:  There are various ways an organization defines the risk-reward-benefit of a new product.  Edge AI applications are no different and it is important that your idea is a good fit for the needs of your organization.  Identifying your organizational constraints is an important step in ensuring your edge AI application will be successful."
      ],
      "metadata": {
        "id": "RsUIb0ZiOXNZ"
      }
    },
    {
      "cell_type": "markdown",
      "source": [
        "\n",
        "*   **Expertise**:  Machine learning and AI solutions are increasingly accessible, but your organization must have individuals with a sufficent skill-set to engineer these solutions into edge AI devices.\n",
        "*   **Time**:  Edge AI development is a data-driven and iterative process that is often more challneging than traditional software development.\n",
        "*  **Budget**:  The expensive componets of an edge AI application are payroll, data collection, and field testing your product.\n",
        "* **Support**:  Edge AI applications require long-term support which is needed throughout the entire lifeclycle of the application.  Machine learning algorithms will need to be updated periodically.\n",
        "\n"
      ],
      "metadata": {
        "id": "oUHPH1XGPTTx"
      }
    },
    {
      "cell_type": "markdown",
      "source": [
        "### Data Feasibility"
      ],
      "metadata": {
        "id": "uErkddV6RI6z"
      }
    },
    {
      "cell_type": "markdown",
      "source": [
        "The success of an Edge AI application depends on the availbility of high-quality data.  Both machine learning algorithms and rule-based solutions require a substanital amount of data to develop and test the system.\n",
        "\n",
        "The collection of data is difficult, time consuming, and expensive.  A thorough understanding of the data requirements is required when the feasibility of your edge AI project is being considered."
      ],
      "metadata": {
        "id": "hGmsT5omRPTq"
      }
    },
    {
      "cell_type": "markdown",
      "source": [
        "\n",
        "\n",
        "1.   How much data is required?\n",
        "2.   Will you be able to obtain enough *high-quality* data?\n",
        "\n"
      ],
      "metadata": {
        "id": "aeudb2ErSiaq"
      }
    },
    {
      "cell_type": "markdown",
      "source": [
        "\n",
        "<p align='center'><font size='+2' color='red'><strong>Lack of quality data is the leading cause of failure for a machine learning project</strong><font></p>"
      ],
      "metadata": {
        "id": "9XpmlMPNTEYD"
      }
    },
    {
      "cell_type": "markdown",
      "source": [
        "### Technology Feasibility"
      ],
      "metadata": {
        "id": "UhxIStwaRP0J"
      }
    },
    {
      "cell_type": "markdown",
      "source": [
        "The feasibility of your project regarding technology should examine whether or not the AI solution can be developed and deployed using current tools (or tools that can be developed), hardware, and necessary infrastructure. Some questions to consider are provided next.\n",
        "\n",
        "1.  Can the model run efficiently on the intended edge device (e.g., sensors, wearables, smartphones)?\n",
        "2.  Are the required computing resources available?\n",
        "3.  Does the solution integrate well with existing systems or workflows?\n",
        "4.  Can updates and maintenance be performed reliably in the field?\n"
      ],
      "metadata": {
        "id": "mdgNNvCPRQSq"
      }
    },
    {
      "cell_type": "markdown",
      "source": [
        "<p align='center'><img src=\"https://drive.google.com/uc?export=view&id=1uWyHGy87ock_PNc1JaU9rmp8k44QBC0t\" width='50%' height='50%'></img>\n",
        "<br><font size='-1'>Source: Image generated using OpenAI’s DALL·E via ChatGPT on May 19, 2025.</font>\n",
        "</p>"
      ],
      "metadata": {
        "id": "7Vbq2NglYzcP"
      }
    },
    {
      "cell_type": "markdown",
      "source": [
        "In an Edge AI system, there are additional considerations that should be considered - a partial list is provided here.\n",
        "\n",
        "*  **Sensors**: How will you collect the data you will need?\n",
        "*  **Data Formats**: What type of data does the edge device produce?\n",
        "*  **Feature Engineering**: What options are available to processes raw signal?\n",
        "*  **Proessors**: How much edge computing is needed?\n",
        "*  **Connectivity**: What type of connectivity is required?\n",
        "*  **Rule-based or Machine Learning**: Is it necessary to use maching learning or will rule-based approach suffice?\n",
        "*  **Choice of Machine Learning Algorithm**:  Will you need to perform classification, prediction, or will deep learning be necessary?\n",
        "*  **Application Architecture**:  Will a single edge device be sufficient or is a more complex system required?\n"
      ],
      "metadata": {
        "id": "pI3ZhWcAWHLF"
      }
    },
    {
      "cell_type": "markdown",
      "source": [
        "Let's not forget about the human element of the project.  A successful solution to an edge AI project will be a system composed of people working together with technology."
      ],
      "metadata": {
        "id": "epOkQi79XxF0"
      }
    },
    {
      "cell_type": "markdown",
      "source": [
        "### <font color='red'><strong>Task #4</strong> : Consider Case Study #1 - Discuss the Moral, Business, Business, and Technology Feasibility"
      ],
      "metadata": {
        "id": "6OUcjesRZ-KR"
      }
    },
    {
      "cell_type": "markdown",
      "source": [
        "* **Moral Feasibility**:  Opportunties: the potential to reduce the severity of strokes; Challenges: Gather sufficient data so that application works across various subpopulations, AI decisions must not replace medical judgements - human decision are augmented with AI\n",
        "\n",
        "* **Business Feasibility**: Opportunities:  Potential to reduce long-term healthcare costs; Challenges: High up-front costs; sufficient training of paramedics\n",
        "\n",
        "* **Data Feasibility**: Opportunities: Medical organizations have sufficent CT scans; Challenges: Data must represent a wide range of stroke types, various subpopulations, and variations in quality of the CT scans\n",
        "\n",
        "* **Technology Feasibility**: Opportunities:  Portable CT scanners are becoming more readily available; Challenges: Mobile enviroment may adversely affect quality of scans, integration between ambulance and hopital data systems"
      ],
      "metadata": {
        "id": "Lw9L9N3XaRth"
      }
    },
    {
      "cell_type": "markdown",
      "source": [
        "\n",
        "\n",
        "---\n",
        "\n",
        "\n",
        "\n",
        "---\n",
        "End of Document\n"
      ],
      "metadata": {
        "id": "l2-5LKP5ZGEf"
      }
    }
  ]
}