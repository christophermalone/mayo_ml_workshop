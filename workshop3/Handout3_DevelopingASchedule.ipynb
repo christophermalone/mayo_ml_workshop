{
  "nbformat": 4,
  "nbformat_minor": 0,
  "metadata": {
    "colab": {
      "provenance": [],
      "collapsed_sections": [
        "69Ts0AI52AvU"
      ],
      "toc_visible": true
    },
    "kernelspec": {
      "name": "python3",
      "display_name": "Python 3"
    },
    "language_info": {
      "name": "python"
    }
  },
  "cells": [
    {
      "cell_type": "markdown",
      "source": [
        "# Handout #3: Developing a Schedule"
      ],
      "metadata": {
        "id": "8KIbNR2YsuHS"
      }
    },
    {
      "cell_type": "markdown",
      "source": [
        "Content Authors:\n",
        "\n",
        "\n",
        "*   Chris Malone Ph D, Professor of Data Science and Statistics, Winona State University; Email: cmalone@winona.edu\n",
        "*   Collin Engstrom PhD, Assistant Professor of Computer Science, Winona State University; Email: collin.engstrom@winona.edu"
      ],
      "metadata": {
        "id": "QkjHPTJ_tagU"
      }
    },
    {
      "cell_type": "markdown",
      "source": [
        "Content in this handout was adapted from the following sources.\n",
        "*    Situnayake, Daniel, and Jenny Plunkett. *AI at the Edge*. \"O'Reilly Media, Inc.\", 2023."
      ],
      "metadata": {
        "id": "r5Y8RX2OmCsW"
      }
    },
    {
      "cell_type": "markdown",
      "source": [
        "---\n",
        "\n"
      ],
      "metadata": {
        "id": "SGSKIWIevdPW"
      }
    },
    {
      "cell_type": "markdown",
      "source": [
        "## Edge AI Workflow"
      ],
      "metadata": {
        "id": "KP2OAT9ViiJ4"
      }
    },
    {
      "cell_type": "markdown",
      "source": [
        "Consider the following image from the \"AI on the Edge\" textbook:\n",
        "\n",
        "<p align='center'><img src=\"https://drive.google.com/uc?export=view&id=1n_nFEAZD8vd6BBPyU8usipEnc5jIHkQv\" width='50%' height='50%'></img></p>\n",
        "\n",
        "\n",
        "The earliest phases of the \"Edge AI Workflow\" comprise the **Discover** phase and involve:\n",
        "\n",
        "*  Exploration\n",
        "*  Goal setting\n",
        "*  Bootstrapping\n",
        "\n",
        "These pertain to up-front planning for a project, but they might need to be re-visited as needed throughout a project's lifespan.\n",
        "\n",
        "The middle phases of the workflow make up the **Test and iterate** phase and include:\n",
        "\n",
        "*  Application\n",
        "*  Dataset\n",
        "*  Algorithms\n",
        "*  Hardware\n",
        "\n",
        "These are more iterative and should help refine the goal(s) you've outlined in the discover phase."
      ],
      "metadata": {
        "id": "vsyvMP-XneWF"
      }
    },
    {
      "cell_type": "markdown",
      "source": [
        "---"
      ],
      "metadata": {
        "id": "0NH1KKtFXFRq"
      }
    },
    {
      "cell_type": "markdown",
      "source": [
        "##Exploration\n",
        "\n",
        "This is where you will try to get a handle on what you want to do with your project. Questions that need to be answered:\n",
        "\n",
        "1.  What is the problem we're trying to solve?\n",
        "2.  Do I actually need Edge AI?\n",
        "3.  Is this project feasible?\n",
        "4.  What machine learning methodology (e.g., classification, regression, feature selection, etc.) is most appropriate?\n",
        "5.  Are there any potential risks, harms, or unintended consequences?\n",
        "6.  Who are the stakeholders? What are their needs/wants?\n",
        "7.  What will the data look like (data cleaning, feature selection, visualization, etc.)?"
      ],
      "metadata": {
        "id": "GwioSL5LXKtE"
      }
    },
    {
      "cell_type": "markdown",
      "source": [
        "---"
      ],
      "metadata": {
        "id": "IB9d47HpZG7f"
      }
    },
    {
      "cell_type": "markdown",
      "source": [
        "##Goal Setting\n",
        "\n",
        "During this phase, we will describe what we're aiming for. Question that need to be answered include:\n",
        "\n",
        "1.  What evaluation metrics will we use?\n",
        "2.  What systemic (big picture, fundamentals) goals do we have?\n",
        "3.  What technical goals do we have?\n",
        "4.  What do the stakeholders think?\n",
        "5.  What values-based framework will we use to track progress?\n",
        "6.  Whom should we choose to evaluate the ongoing project?\n",
        "7.  What scheme should we use for testing our algorithms and application?\n",
        "8.  What support goals do we have in the longer term?\n",
        "9.  When should we abort the project, if necessary?\n",
        "\n",
        "###When to call it quits\n",
        "\n",
        "AI projects often involve failure. Some key points to consider:\n",
        "\n",
        "*  If failure is unavoidable, it is best to *fail early* before too many resources have been expended.\n",
        "*  To reduce chances of failure, *set project-specific milestones and goals*. Write these down early on in the goal setting phase.\n",
        "*  At each project phase, be prepared to *evaluate the status of your project*.\n",
        "*  Have a firm *understanding of your budget* in terms of time, money, and other resources.\n"
      ],
      "metadata": {
        "id": "lRWT_t7ae-og"
      }
    },
    {
      "cell_type": "markdown",
      "source": [
        "---"
      ],
      "metadata": {
        "id": "kq_7uT7oisue"
      }
    },
    {
      "cell_type": "markdown",
      "source": [
        "##Bootstrapping\n",
        "\n",
        "This phase is where we get started on our first iteration of putting together a pratical solution. In other words, this is where the \"rubber meets the road.\" The end goal of bootstrapping is, ideally, to quickly come to a working prototype.\n",
        "\n",
        "Key tasks of this phase include:\n",
        "\n",
        "*  Collecting a minimal dataset\n",
        "*  Make an attempt at determining hardware requirements\n",
        "*  Developing a simple initial algorithm\n",
        "*  Building the simplest possible end-to-end application\n",
        "*  Doing some initial empirical testing and evluation\n",
        "*  Performing an early review of the first prototype\n",
        "\n",
        "Key questions that should be asked:\n",
        "\n",
        "*  What *algorithm or model* can we use as our baseline? (Simpler is better for the first prototype.)\n",
        "*  Is the baseline algorithm good enough, or does it need improvement?\n",
        "*  What *hardware* is needed for a prototype? (Again, simpler is better for the first prototype.)\n",
        "*  After first deployment, how does the algorithm *perform*? Does it meet our desired level based on our metrics?\n",
        "*  If this algorithm will be incorporated into an existing company workflow, what considerations need to be made for workers? Will they need to be (re)trained?\n"
      ],
      "metadata": {
        "id": "qelI-z2wiu9D"
      }
    },
    {
      "cell_type": "markdown",
      "source": [
        "---"
      ],
      "metadata": {
        "id": "FUT2vi-tnew8"
      }
    },
    {
      "cell_type": "markdown",
      "source": [
        "##Task #1: Discover Phase\n"
      ],
      "metadata": {
        "id": "69Ts0AI52AvU"
      }
    },
    {
      "cell_type": "markdown",
      "source": [
        "Consider the Wisconsin Breast Cancer dataset. Features are computed from a digitized image of a fine needle aspirate (FNA) of a breast mass. A brief description of some of the characteristics measured are given below. The outcome of interest (i.e. the class variable) is whether or not cancer is present.\n",
        "\n",
        "<br>\n",
        "\n",
        "**Some questions to consider:**\n",
        "\n",
        "1.  What is the problem we're trying to solve?\n",
        "    - We want to determine breast cancer status using measured features.\n",
        "2.  Is AI appropriate?\n",
        "    - Yes, since we have a binary classification problem.\n",
        "3.  What does the dataset look like?\n",
        "    - (See below for detailed explanation.)\n",
        "4.  What machine learning methodology might we consider using?\n",
        "    - Any modeling technique that supports binary output--malignant or benign. Some examples might include: decision trees, random forests, support vector machines, and neural nets (or deep learning).\n",
        "5.  What metrics might we use to evaluate the performance from (4) above?\n",
        "    - Area Under the ROC (AuROC) and accuracy would be good to start with. Since false positives are a notable concern, precision and recall might also be considered. (More on all these in the next module.)\n",
        "    \n",
        "<br>\n",
        "\n",
        "<table>\n",
        "  <tr>\n",
        "    <td width='100%'>\n",
        "      <ul>\n",
        "        <li><strong>Class</strong>: Labels are 0 (Benign) and 1 (Malignant)</li><br>\n",
        "        <li><strong>Features</strong>:</li>\n",
        "        <ul>\n",
        "          <li>ID - unique ID for each sample</li>\n",
        "          <li>CellClumpThickness - higher values indicate malignancy</li>\n",
        "          <li>UniformCellSize - higher values suggest greater likelihood of malignancy</li>\n",
        "          <li>UniformCellShape - higher values indicate more variability and potential malignancy</li>\n",
        "          <li>MarginalAdhesion - lower values can be indicatvie to cancer</li>\n",
        "          <li>SingleEpithelialSize - larger sizes my indicate malignancy</li>\n",
        "          <li>BareNuclei - Counts the number of nuclei that are not surrounded by cytoplasm (higher values are often associated with cancer)</li>\n",
        "          <li>BlandChromatin - Measure of texture of the cell nucleus chromatin (courser chromatin is typical in cancer cells)</li>\n",
        "          <li>NormalNucleoli - Counts the number of nucleoli with the nucleus (higher values are linked to malignancy)</li>\n",
        "          <li>Mitoses - Measures the number of cells undergoing mitosis (higher values are associated with malignancy)</li>\n",
        "         </ul>\n",
        "    </ul>\n",
        "    </td>\n",
        "</tr>\n",
        "</table>\n",
        "\n",
        "[Data - Local Copy](https://github.com/christophermalone/mayo_ml_workshop/blob/main/WI_BreastCancer.csv)\n",
        "\n",
        "<p align='center'><img src=\"https://drive.google.com/uc?export=view&id=175xKGsxAKhQlul-CEMZiiTjCoR30Jny9\" width='50%' height='50%'></img></p>\n",
        "\n",
        "Image Source: https://sphweb.bumc.bu.edu/otlt/mph-modules/ph/ph709_cancer/ph709_cancer7.html"
      ],
      "metadata": {
        "id": "TFlVP-08_w_1"
      }
    },
    {
      "cell_type": "markdown",
      "source": [
        "---"
      ],
      "metadata": {
        "id": "iKdfbr0Z41Ax"
      }
    },
    {
      "cell_type": "markdown",
      "source": [
        "##Test and Iterate\n",
        "\n",
        "Consider the following image once more:\n",
        "\n",
        "<br>\n",
        "\n",
        "<p align='center'><img src=\"https://drive.google.com/uc?export=view&id=1mKs2C7uyl9O70rURE4yVgrO-5gtkiYAH\" width='50%' height='50%'></img></p>\n",
        "\n",
        "The *Test and Iterate* phase is where we improve upon our prototype over numerous iterations. You'll note that there are four components to this stage: **application**, **dataset**, **algorithms**, and **hardware**. These four pieces advance on their own, but will influence the development of the others.\n",
        "\n",
        "<br>\n",
        "\n",
        "Classically, the AI development process was thought of as a fairly simple cyclical process:\n",
        "\n",
        "<p align='center'><img src=\"https://drive.google.com/uc?export=view&id=1PoxEWrn1Z2N9HXkPZuf27QCpR9R-3BrF\" width='50%' height='50%'></img></p>\n",
        "\n",
        "This step-by-step cycle is known as a **feedback loop**. This allows us to more readily grasp how development proceeds. In reality, it's more accurate to think of the AI development process as follows:\n",
        "\n",
        "<p align='center'><img src=\"https://drive.google.com/uc?export=view&id=1tHTFaBnxOA-U86DR8rPMFOAo-3ZJkllv\" width='50%' height='50%'></img></p>\n",
        "\n",
        "Note that in this model, it is possible to transition from one component to any one of the others. Since these components are continually influencing one another, this depiction is more realistic.\n",
        "\n",
        "<br>\n",
        "A typical iterative process looks like this:\n",
        "\n",
        "1.  Obtain data, and split it into training, validation (a.k.a. \"tuning\"), and test sets.\n",
        "2.  Train a large model on the training set.\n",
        "3.  Measure performance on the validation split.\n",
        "4.  Tweak the setup (more data, tune model parameters, etc.) to optimize validation performance.\n",
        "5.  Train and measure performance once more.\n",
        "6.  Repeat (5) and (6) until you're satisfied the model is performing at its best.\n",
        "7.  Try the model out on the held-aside test set.\n",
        "8.  If the model works as expected, you're ready to begin *deploying* onto a hardware device or into the real world. Otherwise, start from scratch!\n",
        "<br><br>\n",
        "**Final notes:**\n",
        "*  *Deployment* is a critical part of the development process.\n",
        "*  Deploy early and often. This ensures you have the hardware and other resources to support your algorithm/model.\n",
        "*  Your project is never really done! You'll still need to monitor and maintain its performance. A crucial part of this will be deciding how to maintain *support* for customers or end users. Some examples might include expert forums, e-mail and telephone support, etc."
      ],
      "metadata": {
        "id": "0jn8OugknfkU"
      }
    }
  ]
}