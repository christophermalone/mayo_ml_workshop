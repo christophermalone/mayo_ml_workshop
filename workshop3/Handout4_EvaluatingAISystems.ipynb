{
  "nbformat": 4,
  "nbformat_minor": 0,
  "metadata": {
    "colab": {
      "provenance": [],
      "collapsed_sections": [
        "Gb9_n6bmxjMb",
        "194GsuPAxY-T",
        "ZZNcg5eFEhVH",
        "a2ZMewpHpLBz",
        "Z8dX3w0L0fJE",
        "KP2OAT9ViiJ4",
        "Jg-dks-28DJK",
        "UTINmL43-Yoq",
        "_xkzVIstFKIK",
        "QlbcGKlkJpwJ",
        "nybGD8lQhwEx",
        "3sveH6FhbLC5",
        "93PjcDTAlg-_"
      ],
      "toc_visible": true
    },
    "kernelspec": {
      "name": "python3",
      "display_name": "Python 3"
    },
    "language_info": {
      "name": "python"
    }
  },
  "cells": [
    {
      "cell_type": "markdown",
      "source": [
        "# Handout #4: Evaluating AI Systems"
      ],
      "metadata": {
        "id": "8KIbNR2YsuHS"
      }
    },
    {
      "cell_type": "markdown",
      "source": [
        "Content Authors:\n",
        "\n",
        "\n",
        "*   Chris Malone Ph D, Professor of Data Science and Statistics, Winona State University; Email: cmalone@winona.edu\n",
        "*   Collin Engstrom PhD, Assistant Professor of Computer Science, Winona State University; Email: collin.engstrom@winona.edu"
      ],
      "metadata": {
        "id": "QkjHPTJ_tagU"
      }
    },
    {
      "cell_type": "markdown",
      "source": [
        "Content in this handout was adapted from the following sources.\n",
        "*    https://www.tensorflow.org/tutorials/keras/classification\n",
        "* https://colab.research.google.com/github/goodboychan/chans_jupyter/blob/main/_notebooks/2020-07-28-01-Breast-Cancer-Detection-with-Machine-Learning.ipynb\n",
        "*    https://machinelearningmastery.com/tensorflow-tutorial-deep-learning-with-tf-keras/\n",
        "*    https://www.tensorflow.org/tutorials/structured_data/imbalanced_data\n",
        "*    Situnayake, Daniel, and Jenny Plunkett. *AI at the Edge*. \"O'Reilly Media, Inc.\", 2023."
      ],
      "metadata": {
        "id": "r5Y8RX2OmCsW"
      }
    },
    {
      "cell_type": "markdown",
      "source": [
        "## Libraries and Custom Functions"
      ],
      "metadata": {
        "id": "Gb9_n6bmxjMb"
      }
    },
    {
      "cell_type": "markdown",
      "source": [
        "The following Python libraries will be used throughout this handout."
      ],
      "metadata": {
        "id": "6RedF951xqxb"
      }
    },
    {
      "cell_type": "code",
      "source": [
        "# Load Numpy, MatPlot, Pandas, and Seaborn libraries for data processing and graphing\n",
        "import numpy as np\n",
        "import matplotlib.pyplot as plt\n",
        "import pandas as pd\n",
        "from pandas import DataFrame\n",
        "from pandas.plotting import scatter_matrix\n",
        "import seaborn as sns\n",
        "\n",
        "# Load TensorFlow and Keres libraries to facilitate fitting of neural net\n",
        "import tensorflow as tf\n",
        "from tensorflow.keras import Sequential\n",
        "from tensorflow.keras.layers import Dense\n",
        "\n",
        "# Sci-Kit Learn Libraries to faciliate model fitting, metrics,\n",
        "#from sklearn.model_selection import train_test_split, KFold, cross_val_score\n",
        "from sklearn.model_selection import train_test_split\n",
        "from sklearn.preprocessing import LabelEncoder\n",
        "from sklearn.metrics import confusion_matrix\n",
        "from sklearn.metrics import roc_curve\n",
        "\n",
        "print('Tensorflow Version:' + tf.__version__)"
      ],
      "metadata": {
        "colab": {
          "base_uri": "https://localhost:8080/"
        },
        "id": "fqJqQggOxq5q",
        "outputId": "c72ab653-a9d1-4382-e74a-6ad03bd56959"
      },
      "execution_count": null,
      "outputs": [
        {
          "output_type": "stream",
          "name": "stdout",
          "text": [
            "Tensorflow Version:2.18.0\n"
          ]
        }
      ]
    },
    {
      "cell_type": "markdown",
      "source": [
        "The following are custom functions that will be used in this handout."
      ],
      "metadata": {
        "id": "kNNOEA4w1WVK"
      }
    },
    {
      "cell_type": "code",
      "source": [
        "# Need a function that plots a confusion matrix for us\n",
        "def plot_cm(labels, predictions, threshold=0.5):\n",
        "  cm = confusion_matrix(labels, predictions > threshold)\n",
        "  plt.figure(figsize=(5,5))\n",
        "  sns.heatmap(cm, annot=True, fmt=\"d\")\n",
        "  plt.title('Confusion matrix @{:.2f}'.format(threshold))\n",
        "  plt.ylabel('Actual label')\n",
        "  plt.xlabel('Predicted label')"
      ],
      "metadata": {
        "id": "JuMzgAW11WcR"
      },
      "execution_count": null,
      "outputs": []
    },
    {
      "cell_type": "code",
      "source": [
        "#ROC Curve\n",
        "def plot_roc(name, labels, predictions, **kwargs):\n",
        "  fp, tp, _ = roc_curve(labels, predictions)\n",
        "\n",
        "  plt.plot(fp, tp, label=name, linewidth=2, **kwargs)\n",
        "  plt.xlabel('False positives [%]')\n",
        "  plt.ylabel('True positives [%]')\n",
        "  plt.xlim([-0.1,1.1])\n",
        "  plt.ylim([0,1.1])\n",
        "  plt.grid(True)\n",
        "  ax = plt.gca()\n",
        "  ax.set_aspect('equal')"
      ],
      "metadata": {
        "id": "cmYpe08G1cP6"
      },
      "execution_count": null,
      "outputs": []
    },
    {
      "cell_type": "markdown",
      "source": [
        "## Example #1: WI Breast Cancer"
      ],
      "metadata": {
        "id": "194GsuPAxY-T"
      }
    },
    {
      "cell_type": "markdown",
      "source": [
        "<table width='100%' ><tr><td bgcolor='green'></td></tr></table>\n",
        "\n",
        "Features are computed from a digitized image of a fine needle aspirate (FNA) of a breast mass. A brief description of some of the characteristics measured are considered here. The outcome of interest (i.e. the class variable) is whether or not cancer is present.\n",
        "\n",
        "<table>\n",
        "  <tr>\n",
        "    <td width='100%'>\n",
        "      <ul>\n",
        "        <li><strong>Class</strong>: Labels are 0 (Benign) and 1 (Malignant)</li><br>\n",
        "        <li><strong>Features</strong>:</li>\n",
        "        <ul>\n",
        "          <li>ID - unique ID for each sample</li>\n",
        "          <li>CellClumpThickness - higher values indicate malignancy</li>\n",
        "          <li>UniformCellSize - higher values suggest greater likelihood of malignancy</li>\n",
        "          <li>UniformCellShape - higher values indicate more variability and potential malignancy</li>\n",
        "          <li>MarginalAdhesion - lower values can be indicatvie to cancer</li>\n",
        "          <li>SingleEpithelialSize - larger sizes my indicate malignancy</li>\n",
        "          <li>BareNuclei - Counts the number of nuclei that are not surrounded by cytoplasm (higher values are often associated with cancer)</li>\n",
        "          <li>BlandChromatin - Measure of texture of the cell nucleus chromatin (courser chromatin is typical in cancer cells)</li>\n",
        "          <li>NormalNucleoli - Counts the number of nucleoli with the nucleus (higher values are linked to malignancy)</li>\n",
        "          <li>Mitoses - Measures the number of cells undergoing mitosis (higher values are associated with malignancy)</li>\n",
        "         </ul>\n",
        "    </ul>\n",
        "    </td>\n",
        "</tr>\n",
        "</table>\n",
        "\n",
        "[Data - Local Copy](https://github.com/christophermalone/mayo_ml_workshop/blob/main/WI_BreastCancer.csv)\n",
        "\n",
        "<p align='center'><img src=\"https://drive.google.com/uc?export=view&id=175xKGsxAKhQlul-CEMZiiTjCoR30Jny9\" width='50%' height='50%'></img></p>\n",
        "\n",
        "Image Source: https://sphweb.bumc.bu.edu/otlt/mph-modules/ph/ph709_cancer/ph709_cancer7.html\n",
        "\n",
        "<table width='100%' ><tr><td bgcolor='green'></td></tr></table>\n"
      ],
      "metadata": {
        "id": "4lSzWk4SxcTb"
      }
    },
    {
      "cell_type": "markdown",
      "source": [
        "The following code will read in the WI Breast Cancer dataset."
      ],
      "metadata": {
        "id": "v3uyA0k0APKX"
      }
    },
    {
      "cell_type": "code",
      "source": [
        "url= 'https://raw.githubusercontent.com/christophermalone/mayo_ml_workshop/refs/heads/main/datasets/WI_BreastCancer.csv'\n",
        "WI_BreastCancer_DF = pd.read_csv(url)"
      ],
      "metadata": {
        "id": "wgCvnKUxxcar"
      },
      "execution_count": null,
      "outputs": []
    },
    {
      "cell_type": "code",
      "source": [
        "# @title Reading Data from Original Source\n",
        "\n",
        "#Note: All lines commented out as local copy has been provided\n",
        "\n",
        "#The following code can be used to read in this data from the original source\n",
        "#url = 'https://archive.ics.uci.edu/ml/machine-learning-databases/breast-cancer-wisconsin/breast-cancer-wisconsin.data'\n",
        "#names = ['id', 'clump_thickness', 'uniform_cell_size', 'uniform_cell_shape',\n",
        "#         'marginal_adhesion', 'single_epithelial_size', 'bare_nuclei',\n",
        "#         'bland_chromatin', 'normal_nucleoli', 'mitoses', 'class']\n",
        "\n",
        "#Reading in data; Use names as provided above, need to fix missingness issues, drop missing values\n",
        "#WI_BreastCancer_DF = pd.read_csv(url, names=names).replace('?', np.nan).dropna()\n",
        "\n",
        "# Convert classification labels to 0 and 1 (from 2 and 4)\n",
        "#WI_BreastCancer_DF['class'] = WI_BreastCancer_DF['class']/2 - 1"
      ],
      "metadata": {
        "cellView": "form",
        "id": "D6cYxerG39mR"
      },
      "execution_count": null,
      "outputs": []
    },
    {
      "cell_type": "markdown",
      "source": [
        "The following are useful when reading in data.\n",
        "\n",
        "\n",
        "*   .head() is used to view the first few rows of the data.frame\n",
        "*   .shape will return the number of samples (rows) and number of fields (columns)\n",
        "*   .dtypes will return the data type for each field"
      ],
      "metadata": {
        "id": "GzPLT7Qu3q8q"
      }
    },
    {
      "cell_type": "code",
      "source": [
        "WI_BreastCancer_DF.head()\n",
        "#WI_BreastCancer_DF.shape\n",
        "#WI_BreastCancer_DF.dtypes\n"
      ],
      "metadata": {
        "colab": {
          "base_uri": "https://localhost:8080/",
          "height": 226
        },
        "id": "2AO03vn83rEx",
        "outputId": "39702a6e-2ef0-4ebe-c16d-8814f27b4053"
      },
      "execution_count": null,
      "outputs": [
        {
          "output_type": "execute_result",
          "data": {
            "text/plain": [
              "        ID  CellClumpThickness  UniformCellSize  UniformCellShape  \\\n",
              "0  1000025                   5                1                 1   \n",
              "1  1002945                   5                4                 4   \n",
              "2  1015425                   3                1                 1   \n",
              "3  1016277                   6                8                 8   \n",
              "4  1017023                   4                1                 1   \n",
              "\n",
              "   MarginalAdhesion  SingleEpithelialSize  BareNuclei  BlandChromatin  \\\n",
              "0                 1                     2           1               3   \n",
              "1                 5                     7          10               3   \n",
              "2                 1                     2           2               3   \n",
              "3                 1                     3           4               3   \n",
              "4                 3                     2           1               3   \n",
              "\n",
              "   NormalNucleoli  Mitoses  Class  \n",
              "0               1        1      0  \n",
              "1               2        1      0  \n",
              "2               1        1      0  \n",
              "3               7        1      0  \n",
              "4               1        1      0  "
            ],
            "text/html": [
              "\n",
              "  <div id=\"df-db4bae9d-82cb-4606-aa4c-3401d6c5efb3\" class=\"colab-df-container\">\n",
              "    <div>\n",
              "<style scoped>\n",
              "    .dataframe tbody tr th:only-of-type {\n",
              "        vertical-align: middle;\n",
              "    }\n",
              "\n",
              "    .dataframe tbody tr th {\n",
              "        vertical-align: top;\n",
              "    }\n",
              "\n",
              "    .dataframe thead th {\n",
              "        text-align: right;\n",
              "    }\n",
              "</style>\n",
              "<table border=\"1\" class=\"dataframe\">\n",
              "  <thead>\n",
              "    <tr style=\"text-align: right;\">\n",
              "      <th></th>\n",
              "      <th>ID</th>\n",
              "      <th>CellClumpThickness</th>\n",
              "      <th>UniformCellSize</th>\n",
              "      <th>UniformCellShape</th>\n",
              "      <th>MarginalAdhesion</th>\n",
              "      <th>SingleEpithelialSize</th>\n",
              "      <th>BareNuclei</th>\n",
              "      <th>BlandChromatin</th>\n",
              "      <th>NormalNucleoli</th>\n",
              "      <th>Mitoses</th>\n",
              "      <th>Class</th>\n",
              "    </tr>\n",
              "  </thead>\n",
              "  <tbody>\n",
              "    <tr>\n",
              "      <th>0</th>\n",
              "      <td>1000025</td>\n",
              "      <td>5</td>\n",
              "      <td>1</td>\n",
              "      <td>1</td>\n",
              "      <td>1</td>\n",
              "      <td>2</td>\n",
              "      <td>1</td>\n",
              "      <td>3</td>\n",
              "      <td>1</td>\n",
              "      <td>1</td>\n",
              "      <td>0</td>\n",
              "    </tr>\n",
              "    <tr>\n",
              "      <th>1</th>\n",
              "      <td>1002945</td>\n",
              "      <td>5</td>\n",
              "      <td>4</td>\n",
              "      <td>4</td>\n",
              "      <td>5</td>\n",
              "      <td>7</td>\n",
              "      <td>10</td>\n",
              "      <td>3</td>\n",
              "      <td>2</td>\n",
              "      <td>1</td>\n",
              "      <td>0</td>\n",
              "    </tr>\n",
              "    <tr>\n",
              "      <th>2</th>\n",
              "      <td>1015425</td>\n",
              "      <td>3</td>\n",
              "      <td>1</td>\n",
              "      <td>1</td>\n",
              "      <td>1</td>\n",
              "      <td>2</td>\n",
              "      <td>2</td>\n",
              "      <td>3</td>\n",
              "      <td>1</td>\n",
              "      <td>1</td>\n",
              "      <td>0</td>\n",
              "    </tr>\n",
              "    <tr>\n",
              "      <th>3</th>\n",
              "      <td>1016277</td>\n",
              "      <td>6</td>\n",
              "      <td>8</td>\n",
              "      <td>8</td>\n",
              "      <td>1</td>\n",
              "      <td>3</td>\n",
              "      <td>4</td>\n",
              "      <td>3</td>\n",
              "      <td>7</td>\n",
              "      <td>1</td>\n",
              "      <td>0</td>\n",
              "    </tr>\n",
              "    <tr>\n",
              "      <th>4</th>\n",
              "      <td>1017023</td>\n",
              "      <td>4</td>\n",
              "      <td>1</td>\n",
              "      <td>1</td>\n",
              "      <td>3</td>\n",
              "      <td>2</td>\n",
              "      <td>1</td>\n",
              "      <td>3</td>\n",
              "      <td>1</td>\n",
              "      <td>1</td>\n",
              "      <td>0</td>\n",
              "    </tr>\n",
              "  </tbody>\n",
              "</table>\n",
              "</div>\n",
              "    <div class=\"colab-df-buttons\">\n",
              "\n",
              "  <div class=\"colab-df-container\">\n",
              "    <button class=\"colab-df-convert\" onclick=\"convertToInteractive('df-db4bae9d-82cb-4606-aa4c-3401d6c5efb3')\"\n",
              "            title=\"Convert this dataframe to an interactive table.\"\n",
              "            style=\"display:none;\">\n",
              "\n",
              "  <svg xmlns=\"http://www.w3.org/2000/svg\" height=\"24px\" viewBox=\"0 -960 960 960\">\n",
              "    <path d=\"M120-120v-720h720v720H120Zm60-500h600v-160H180v160Zm220 220h160v-160H400v160Zm0 220h160v-160H400v160ZM180-400h160v-160H180v160Zm440 0h160v-160H620v160ZM180-180h160v-160H180v160Zm440 0h160v-160H620v160Z\"/>\n",
              "  </svg>\n",
              "    </button>\n",
              "\n",
              "  <style>\n",
              "    .colab-df-container {\n",
              "      display:flex;\n",
              "      gap: 12px;\n",
              "    }\n",
              "\n",
              "    .colab-df-convert {\n",
              "      background-color: #E8F0FE;\n",
              "      border: none;\n",
              "      border-radius: 50%;\n",
              "      cursor: pointer;\n",
              "      display: none;\n",
              "      fill: #1967D2;\n",
              "      height: 32px;\n",
              "      padding: 0 0 0 0;\n",
              "      width: 32px;\n",
              "    }\n",
              "\n",
              "    .colab-df-convert:hover {\n",
              "      background-color: #E2EBFA;\n",
              "      box-shadow: 0px 1px 2px rgba(60, 64, 67, 0.3), 0px 1px 3px 1px rgba(60, 64, 67, 0.15);\n",
              "      fill: #174EA6;\n",
              "    }\n",
              "\n",
              "    .colab-df-buttons div {\n",
              "      margin-bottom: 4px;\n",
              "    }\n",
              "\n",
              "    [theme=dark] .colab-df-convert {\n",
              "      background-color: #3B4455;\n",
              "      fill: #D2E3FC;\n",
              "    }\n",
              "\n",
              "    [theme=dark] .colab-df-convert:hover {\n",
              "      background-color: #434B5C;\n",
              "      box-shadow: 0px 1px 3px 1px rgba(0, 0, 0, 0.15);\n",
              "      filter: drop-shadow(0px 1px 2px rgba(0, 0, 0, 0.3));\n",
              "      fill: #FFFFFF;\n",
              "    }\n",
              "  </style>\n",
              "\n",
              "    <script>\n",
              "      const buttonEl =\n",
              "        document.querySelector('#df-db4bae9d-82cb-4606-aa4c-3401d6c5efb3 button.colab-df-convert');\n",
              "      buttonEl.style.display =\n",
              "        google.colab.kernel.accessAllowed ? 'block' : 'none';\n",
              "\n",
              "      async function convertToInteractive(key) {\n",
              "        const element = document.querySelector('#df-db4bae9d-82cb-4606-aa4c-3401d6c5efb3');\n",
              "        const dataTable =\n",
              "          await google.colab.kernel.invokeFunction('convertToInteractive',\n",
              "                                                    [key], {});\n",
              "        if (!dataTable) return;\n",
              "\n",
              "        const docLinkHtml = 'Like what you see? Visit the ' +\n",
              "          '<a target=\"_blank\" href=https://colab.research.google.com/notebooks/data_table.ipynb>data table notebook</a>'\n",
              "          + ' to learn more about interactive tables.';\n",
              "        element.innerHTML = '';\n",
              "        dataTable['output_type'] = 'display_data';\n",
              "        await google.colab.output.renderOutput(dataTable, element);\n",
              "        const docLink = document.createElement('div');\n",
              "        docLink.innerHTML = docLinkHtml;\n",
              "        element.appendChild(docLink);\n",
              "      }\n",
              "    </script>\n",
              "  </div>\n",
              "\n",
              "\n",
              "    <div id=\"df-3c9ac622-56b5-4c9d-8eac-0634feda4c1f\">\n",
              "      <button class=\"colab-df-quickchart\" onclick=\"quickchart('df-3c9ac622-56b5-4c9d-8eac-0634feda4c1f')\"\n",
              "                title=\"Suggest charts\"\n",
              "                style=\"display:none;\">\n",
              "\n",
              "<svg xmlns=\"http://www.w3.org/2000/svg\" height=\"24px\"viewBox=\"0 0 24 24\"\n",
              "     width=\"24px\">\n",
              "    <g>\n",
              "        <path d=\"M19 3H5c-1.1 0-2 .9-2 2v14c0 1.1.9 2 2 2h14c1.1 0 2-.9 2-2V5c0-1.1-.9-2-2-2zM9 17H7v-7h2v7zm4 0h-2V7h2v10zm4 0h-2v-4h2v4z\"/>\n",
              "    </g>\n",
              "</svg>\n",
              "      </button>\n",
              "\n",
              "<style>\n",
              "  .colab-df-quickchart {\n",
              "      --bg-color: #E8F0FE;\n",
              "      --fill-color: #1967D2;\n",
              "      --hover-bg-color: #E2EBFA;\n",
              "      --hover-fill-color: #174EA6;\n",
              "      --disabled-fill-color: #AAA;\n",
              "      --disabled-bg-color: #DDD;\n",
              "  }\n",
              "\n",
              "  [theme=dark] .colab-df-quickchart {\n",
              "      --bg-color: #3B4455;\n",
              "      --fill-color: #D2E3FC;\n",
              "      --hover-bg-color: #434B5C;\n",
              "      --hover-fill-color: #FFFFFF;\n",
              "      --disabled-bg-color: #3B4455;\n",
              "      --disabled-fill-color: #666;\n",
              "  }\n",
              "\n",
              "  .colab-df-quickchart {\n",
              "    background-color: var(--bg-color);\n",
              "    border: none;\n",
              "    border-radius: 50%;\n",
              "    cursor: pointer;\n",
              "    display: none;\n",
              "    fill: var(--fill-color);\n",
              "    height: 32px;\n",
              "    padding: 0;\n",
              "    width: 32px;\n",
              "  }\n",
              "\n",
              "  .colab-df-quickchart:hover {\n",
              "    background-color: var(--hover-bg-color);\n",
              "    box-shadow: 0 1px 2px rgba(60, 64, 67, 0.3), 0 1px 3px 1px rgba(60, 64, 67, 0.15);\n",
              "    fill: var(--button-hover-fill-color);\n",
              "  }\n",
              "\n",
              "  .colab-df-quickchart-complete:disabled,\n",
              "  .colab-df-quickchart-complete:disabled:hover {\n",
              "    background-color: var(--disabled-bg-color);\n",
              "    fill: var(--disabled-fill-color);\n",
              "    box-shadow: none;\n",
              "  }\n",
              "\n",
              "  .colab-df-spinner {\n",
              "    border: 2px solid var(--fill-color);\n",
              "    border-color: transparent;\n",
              "    border-bottom-color: var(--fill-color);\n",
              "    animation:\n",
              "      spin 1s steps(1) infinite;\n",
              "  }\n",
              "\n",
              "  @keyframes spin {\n",
              "    0% {\n",
              "      border-color: transparent;\n",
              "      border-bottom-color: var(--fill-color);\n",
              "      border-left-color: var(--fill-color);\n",
              "    }\n",
              "    20% {\n",
              "      border-color: transparent;\n",
              "      border-left-color: var(--fill-color);\n",
              "      border-top-color: var(--fill-color);\n",
              "    }\n",
              "    30% {\n",
              "      border-color: transparent;\n",
              "      border-left-color: var(--fill-color);\n",
              "      border-top-color: var(--fill-color);\n",
              "      border-right-color: var(--fill-color);\n",
              "    }\n",
              "    40% {\n",
              "      border-color: transparent;\n",
              "      border-right-color: var(--fill-color);\n",
              "      border-top-color: var(--fill-color);\n",
              "    }\n",
              "    60% {\n",
              "      border-color: transparent;\n",
              "      border-right-color: var(--fill-color);\n",
              "    }\n",
              "    80% {\n",
              "      border-color: transparent;\n",
              "      border-right-color: var(--fill-color);\n",
              "      border-bottom-color: var(--fill-color);\n",
              "    }\n",
              "    90% {\n",
              "      border-color: transparent;\n",
              "      border-bottom-color: var(--fill-color);\n",
              "    }\n",
              "  }\n",
              "</style>\n",
              "\n",
              "      <script>\n",
              "        async function quickchart(key) {\n",
              "          const quickchartButtonEl =\n",
              "            document.querySelector('#' + key + ' button');\n",
              "          quickchartButtonEl.disabled = true;  // To prevent multiple clicks.\n",
              "          quickchartButtonEl.classList.add('colab-df-spinner');\n",
              "          try {\n",
              "            const charts = await google.colab.kernel.invokeFunction(\n",
              "                'suggestCharts', [key], {});\n",
              "          } catch (error) {\n",
              "            console.error('Error during call to suggestCharts:', error);\n",
              "          }\n",
              "          quickchartButtonEl.classList.remove('colab-df-spinner');\n",
              "          quickchartButtonEl.classList.add('colab-df-quickchart-complete');\n",
              "        }\n",
              "        (() => {\n",
              "          let quickchartButtonEl =\n",
              "            document.querySelector('#df-3c9ac622-56b5-4c9d-8eac-0634feda4c1f button');\n",
              "          quickchartButtonEl.style.display =\n",
              "            google.colab.kernel.accessAllowed ? 'block' : 'none';\n",
              "        })();\n",
              "      </script>\n",
              "    </div>\n",
              "\n",
              "    </div>\n",
              "  </div>\n"
            ],
            "application/vnd.google.colaboratory.intrinsic+json": {
              "type": "dataframe",
              "summary": "{\n  \"name\": \"#WI_BreastCancer_DF\",\n  \"rows\": 5,\n  \"fields\": [\n    {\n      \"column\": \"ID\",\n      \"properties\": {\n        \"dtype\": \"number\",\n        \"std\": 8167,\n        \"min\": 1000025,\n        \"max\": 1017023,\n        \"num_unique_values\": 5,\n        \"samples\": [\n          1002945,\n          1017023,\n          1015425\n        ],\n        \"semantic_type\": \"\",\n        \"description\": \"\"\n      }\n    },\n    {\n      \"column\": \"CellClumpThickness\",\n      \"properties\": {\n        \"dtype\": \"number\",\n        \"std\": 1,\n        \"min\": 3,\n        \"max\": 6,\n        \"num_unique_values\": 4,\n        \"samples\": [\n          3,\n          4,\n          5\n        ],\n        \"semantic_type\": \"\",\n        \"description\": \"\"\n      }\n    },\n    {\n      \"column\": \"UniformCellSize\",\n      \"properties\": {\n        \"dtype\": \"number\",\n        \"std\": 3,\n        \"min\": 1,\n        \"max\": 8,\n        \"num_unique_values\": 3,\n        \"samples\": [\n          1,\n          4,\n          8\n        ],\n        \"semantic_type\": \"\",\n        \"description\": \"\"\n      }\n    },\n    {\n      \"column\": \"UniformCellShape\",\n      \"properties\": {\n        \"dtype\": \"number\",\n        \"std\": 3,\n        \"min\": 1,\n        \"max\": 8,\n        \"num_unique_values\": 3,\n        \"samples\": [\n          1,\n          4,\n          8\n        ],\n        \"semantic_type\": \"\",\n        \"description\": \"\"\n      }\n    },\n    {\n      \"column\": \"MarginalAdhesion\",\n      \"properties\": {\n        \"dtype\": \"number\",\n        \"std\": 1,\n        \"min\": 1,\n        \"max\": 5,\n        \"num_unique_values\": 3,\n        \"samples\": [\n          1,\n          5,\n          3\n        ],\n        \"semantic_type\": \"\",\n        \"description\": \"\"\n      }\n    },\n    {\n      \"column\": \"SingleEpithelialSize\",\n      \"properties\": {\n        \"dtype\": \"number\",\n        \"std\": 2,\n        \"min\": 2,\n        \"max\": 7,\n        \"num_unique_values\": 3,\n        \"samples\": [\n          2,\n          7,\n          3\n        ],\n        \"semantic_type\": \"\",\n        \"description\": \"\"\n      }\n    },\n    {\n      \"column\": \"BareNuclei\",\n      \"properties\": {\n        \"dtype\": \"number\",\n        \"std\": 3,\n        \"min\": 1,\n        \"max\": 10,\n        \"num_unique_values\": 4,\n        \"samples\": [\n          10,\n          4,\n          1\n        ],\n        \"semantic_type\": \"\",\n        \"description\": \"\"\n      }\n    },\n    {\n      \"column\": \"BlandChromatin\",\n      \"properties\": {\n        \"dtype\": \"number\",\n        \"std\": 0,\n        \"min\": 3,\n        \"max\": 3,\n        \"num_unique_values\": 1,\n        \"samples\": [\n          3\n        ],\n        \"semantic_type\": \"\",\n        \"description\": \"\"\n      }\n    },\n    {\n      \"column\": \"NormalNucleoli\",\n      \"properties\": {\n        \"dtype\": \"number\",\n        \"std\": 2,\n        \"min\": 1,\n        \"max\": 7,\n        \"num_unique_values\": 3,\n        \"samples\": [\n          1\n        ],\n        \"semantic_type\": \"\",\n        \"description\": \"\"\n      }\n    },\n    {\n      \"column\": \"Mitoses\",\n      \"properties\": {\n        \"dtype\": \"number\",\n        \"std\": 0,\n        \"min\": 1,\n        \"max\": 1,\n        \"num_unique_values\": 1,\n        \"samples\": [\n          1\n        ],\n        \"semantic_type\": \"\",\n        \"description\": \"\"\n      }\n    },\n    {\n      \"column\": \"Class\",\n      \"properties\": {\n        \"dtype\": \"number\",\n        \"std\": 0,\n        \"min\": 0,\n        \"max\": 0,\n        \"num_unique_values\": 1,\n        \"samples\": [\n          0\n        ],\n        \"semantic_type\": \"\",\n        \"description\": \"\"\n      }\n    }\n  ]\n}"
            }
          },
          "metadata": {},
          "execution_count": 8
        }
      ]
    },
    {
      "cell_type": "markdown",
      "source": [
        "## Investigating the Class variable"
      ],
      "metadata": {
        "id": "ZZNcg5eFEhVH"
      }
    },
    {
      "cell_type": "markdown",
      "source": [
        "To begin, let's get a breakdown of the benign vs malignant cells for the samples in this dataset."
      ],
      "metadata": {
        "id": "miCP7Zi21Koa"
      }
    },
    {
      "cell_type": "markdown",
      "source": [
        "<p align='center'><img src=\"https://drive.google.com/uc?export=view&id=1_zgodOQ7SykjVCu95s0OOH169mpXaIYI\" width='40%' height='40%'></img></p>"
      ],
      "metadata": {
        "id": "9qkgcbr7Curn"
      }
    },
    {
      "cell_type": "markdown",
      "source": [
        "\n",
        "\n",
        "---\n",
        "\n",
        "\n",
        "**Question**: What percent of the samples are cancerous?  \n",
        "\n",
        "**Answer**:  The percent of samples that were malignant $\\frac{239}{683} = 35\\%$.\n",
        "\n",
        "\n",
        "\n",
        "---\n",
        "\n",
        "\n"
      ],
      "metadata": {
        "id": "Ts2EohcandvV"
      }
    },
    {
      "cell_type": "markdown",
      "source": [
        "## Class Balance"
      ],
      "metadata": {
        "id": "a2ZMewpHpLBz"
      }
    },
    {
      "cell_type": "markdown",
      "source": [
        "The **balance** of the outcomes for the class variable is something that should be considered when building a neural net for classification.  If the labels (0 and 1) are too imbalanced, then a naive prediction can be made by simply identify the dominant label.  For example, in studies of rare diseases where a only small percentage of samples are positive, naively predicting a negative label will be correct for most people.  The opitimal class balance is 50/50 as the model fitting algorithm will have an equal opportunity to successfully predict both binary labels."
      ],
      "metadata": {
        "id": "nTr4hvFUH-O4"
      }
    },
    {
      "cell_type": "code",
      "source": [
        "# Find class balance\n",
        "neg, pos = np.bincount(WI_BreastCancer_DF['Class'])\n",
        "total = neg + pos\n",
        "print('Samples:\\n    Total: {}\\n    Positive: {} ({:.2f}% of total)\\n'.format(\n",
        "    total, pos, 100 * pos / total))"
      ],
      "metadata": {
        "colab": {
          "base_uri": "https://localhost:8080/"
        },
        "id": "lNt--1cmBKbp",
        "outputId": "9a1a4945-74d4-4c0f-8157-985d0db91cdb"
      },
      "execution_count": null,
      "outputs": [
        {
          "output_type": "stream",
          "name": "stdout",
          "text": [
            "Samples:\n",
            "    Total: 683\n",
            "    Positive: 239 (34.99% of total)\n",
            "\n"
          ]
        }
      ]
    },
    {
      "cell_type": "markdown",
      "source": [
        "Comments about class balance\n",
        "\n",
        "*   There is not a widely accepted rule for when labels are deemed to be imbalanced; Some might argue that a 70/30 is imbalanced, whereas, others may use 85/15 as imbalanced\n",
        "*   If outcomes of the class variable are deemed to be imbalanced, one can implement **upsampling** to address this issue.  Upsampling is a data processing technique that adds synthetic data to address class imbalance.\n"
      ],
      "metadata": {
        "id": "48bej8rjJL5I"
      }
    },
    {
      "cell_type": "markdown",
      "source": [
        "## Neural Net - The Big Picture"
      ],
      "metadata": {
        "id": "Z8dX3w0L0fJE"
      }
    },
    {
      "cell_type": "markdown",
      "source": [
        "A neural net takes considers a set of **inputs** and returns a set of **output**.  The actual neural net is sometimes referred to as the infamous black box."
      ],
      "metadata": {
        "id": "YzI8UV4M1C2a"
      }
    },
    {
      "cell_type": "markdown",
      "source": [
        "<p align='center'><img src=\"https://drive.google.com/uc?export=view&id=1D60dOSo7OUQ1zHe2ZDeZbWXeld_Ywbd8\" width='80%' height='80%'></img></p>"
      ],
      "metadata": {
        "id": "0ntqDuIX0fXj"
      }
    },
    {
      "cell_type": "markdown",
      "source": [
        "The Class variable in this example has two labels 0 = Benign and 1 = Malignant.  This is **binary classificaiton** problem and the desired output from the neural net is the probability that a given sample is positive, i.e. probability of Label = 1 (Malignant)."
      ],
      "metadata": {
        "id": "hbQgBdUaqxyW"
      }
    },
    {
      "cell_type": "markdown",
      "source": [
        "This probability is determined using a model of the following form.\n",
        "\n",
        "$$\n",
        "P(y_{i} = k | X = x_i) = \\phi_{o} ( \\alpha_{k} + \\sum_{h} {w_{h} * \\phi_{h}(\\alpha_{h}+\\sum_{j=1}^{p}w_{jh}*x_{ij} ) )}\n",
        "$$\n",
        "\n",
        "\n",
        "where\n",
        "*  $P(y_{i} = k | X = x_i)$ is the probability that Y belongs to class $k$ given a set of features $x_i = (x_{i1},x_{i2},\\ldots, x_{ip}) $\n",
        "* This represenation has $1$ hidden layer, $h$ represents the number of nodes in the hidden layer\n",
        "*  $(\\alpha_{h}+\\sum_{j=1}^{p}w_{jh}*x_{ij} )$ is simply a weighted linear combination of the features\n",
        "* $\\phi_{h}()$ is an activation function that is applied on the hidden layer\n",
        "* $\\phi_{o}()$ is the *last* activation function that is applied\n",
        "\n"
      ],
      "metadata": {
        "id": "OZSRsPDAqyVu"
      }
    },
    {
      "cell_type": "markdown",
      "source": [
        "Consider the following overly simplistic example of a neural net.  This neural net has\n",
        "\n",
        "*  two inputs,\n",
        "*  1 hidden layer with 3 nodes, and\n",
        "*  one output"
      ],
      "metadata": {
        "id": "WqfFGBUaJNwy"
      }
    },
    {
      "cell_type": "markdown",
      "source": [
        "<p align='center'><img src=\"https://drive.google.com/uc?export=view&id=1RJZBU7kuzRDI8btyuAmUL6DXG7fYftfP\" width='35%' height='35%'></img></p>\n"
      ],
      "metadata": {
        "id": "CVW9PE6qJBnx"
      }
    },
    {
      "cell_type": "markdown",
      "source": [
        "The neural net algorithm tries to identify optimal values for the weights so that the final predictions are as accurate as possible.  There are many weights that need to be considered.  The value computed at each node is simply a weighted linear combination."
      ],
      "metadata": {
        "id": "FULIF_3FJhE5"
      }
    },
    {
      "cell_type": "markdown",
      "source": [
        "<p align='center'><img src=\"https://drive.google.com/uc?export=view&id=1owrT3YzTPSGjFit-TVV11ZcvqS6lWJyD\" width='50%' height='50%'></img></p>\n",
        "\n",
        "\n"
      ],
      "metadata": {
        "id": "4ahUBHfkGZqS"
      }
    },
    {
      "cell_type": "markdown",
      "source": [
        "Next, an activation function, i.e. $\\phi_h()$, is applied at each node in the hidden layer."
      ],
      "metadata": {
        "id": "2GrQQbwCQHHb"
      }
    },
    {
      "cell_type": "markdown",
      "source": [
        "<p align='center'><img src=\"https://drive.google.com/uc?export=view&id=1IhFYEqfFXf49CC56FaBfh4hlYFMLvkBb\" width='50%' height='50%'></img></p>\n"
      ],
      "metadata": {
        "id": "U_h_omd2OSEp"
      }
    },
    {
      "cell_type": "markdown",
      "source": [
        "There are many different types of activation functions (linear, relu, logistic, hyperbolic tanget, etc).  Recently, the most common activation function used is called **rectified linear unit (relu)**.  The relu activation function is advantageous as not all nodes are activiated which reduces the complexity when attempting to find the optimal weights.\n",
        "\n",
        "[Wiki - Activation Functions](http://en.wikipedia.org/wiki/Activation_function)"
      ],
      "metadata": {
        "id": "FKtDRWqfVz4h"
      }
    },
    {
      "cell_type": "markdown",
      "source": [
        "<p align='center'><img src=\"https://drive.google.com/uc?export=view&id=1wbGuXLC64qr8_9uHx1-JQ4omIlHQ1H_W\" width='40%' height='40%'></img></p>\n"
      ],
      "metadata": {
        "id": "qiPeJJeGGxeY"
      }
    },
    {
      "cell_type": "markdown",
      "source": [
        "Next, applying the relu activation function to the nodes in the hidden layer."
      ],
      "metadata": {
        "id": "WAuTv_-iXerw"
      }
    },
    {
      "cell_type": "markdown",
      "source": [
        "<p align='center'><img src=\"https://drive.google.com/uc?export=view&id=14nhUx4IPKF96PRZCjH7h0vS_t4tSMM4_\" width='40%' height='40%'></img></p>\n"
      ],
      "metadata": {
        "id": "x07qt3GwQddF"
      }
    },
    {
      "cell_type": "markdown",
      "source": [
        "After the activiation function has been applied to the hidden layer, the network progresses forward.  Here, only 1 hidden layer is used, so the next layer is the *last* one.  For a classification problem, the last activiation function, i.e. $\\phi_{o}$, should return a probability - so a value between $0$ and $1$."
      ],
      "metadata": {
        "id": "VimOV3d4XqQO"
      }
    },
    {
      "cell_type": "markdown",
      "source": [
        "<p align='center'><img src=\"https://drive.google.com/uc?export=view&id=1MegtqIMZTk1yb9dnr-3Z5Vdi9Zut-Xwt\" width='50%' height='50%'></img></p>\n"
      ],
      "metadata": {
        "id": "TuVE94aNUY8I"
      }
    },
    {
      "cell_type": "markdown",
      "source": [
        "The common activiation function for the last layer is the **sigmoid** function.  This function is guaranteed to return a value between $0$ and $1$."
      ],
      "metadata": {
        "id": "rzEtwe3IcSXL"
      }
    },
    {
      "cell_type": "markdown",
      "source": [
        "<p align='center'><img src=\"https://drive.google.com/uc?export=view&id=1u0if_rqzNTE-VP5LOxnOc-Z6W4kahstT\" width='40%' height='40%'></img></p>"
      ],
      "metadata": {
        "id": "JBfNY_zYYPcH"
      }
    },
    {
      "cell_type": "markdown",
      "source": [
        "Applying the sigmoid activiation function to the last layer of our simple neural network converts the value from $-14.67$ to $0.0376$.  "
      ],
      "metadata": {
        "id": "VrjihrZDc5Ec"
      }
    },
    {
      "cell_type": "markdown",
      "source": [
        "<p align='center'><img src=\"https://drive.google.com/uc?export=view&id=1AEI_iiF1wJioKBMozWRTzayxtn_8sOyw\" width='60%' height='60%'></img></p>\n",
        "\n"
      ],
      "metadata": {
        "id": "gysAeNWyG-Nx"
      }
    },
    {
      "cell_type": "markdown",
      "source": [
        "The value returned from the sigmoid activiation function is interpreted as the $P(y_i = 1 | X) = 0.0376$"
      ],
      "metadata": {
        "id": "3k_cmPmLdPDc"
      }
    },
    {
      "cell_type": "markdown",
      "source": [
        "<p align='center'><img src=\"https://drive.google.com/uc?export=view&id=1YCxxZp66rh38oRbdFe3PqoinuYEC7uZJ\" width='40%' height='40%'></img></p>\n"
      ],
      "metadata": {
        "id": "H3UYFNdPaVyw"
      }
    },
    {
      "cell_type": "markdown",
      "source": [
        "The collection of predicted probabilities across all samples is returned by the neural network.  In order to compute the effectivness of the model, these predicted probabilites must be used to predict the class label. This is done as follows -- the default value for the $\\bf{threshold}$ is $0.50$.\n",
        "\n",
        "$$\n",
        "\\begin{equation}\n",
        "  \\mbox{Predicted Label} =\n",
        "    \\begin{cases}\n",
        "      0 & \\mbox{if } P(y_i=1|X) < threshold\\\\\n",
        "      1 & \\mbox{if } P(y_i=1|X) \\ge threshold\n",
        "    \\end{cases}       \n",
        "\\end{equation}\n",
        "$$"
      ],
      "metadata": {
        "id": "YzkVds91dkuM"
      }
    },
    {
      "cell_type": "markdown",
      "source": [
        "<p align='center'><img src=\"https://drive.google.com/uc?export=view&id=1codq5f4-rcATyElLHhNJzLSEu-kG6nwY\" width='25%' height='25%'></img></p>\n",
        "\n",
        "\n"
      ],
      "metadata": {
        "id": "P5Y2MVtIHIwB"
      }
    },
    {
      "cell_type": "markdown",
      "source": [
        "After a prediction has been made for each sample, we are now able to evalaute the model's predictive performance.  The **loss function** determines how the evaluation is to be done.  You may have heard of a squared-error loss function which is appropriate when the final prediction is numeric.  A **binary_crossentropy** loss function will be used when here as the final prediction is binary outcome."
      ],
      "metadata": {
        "id": "QGl1IIasfgzO"
      }
    },
    {
      "cell_type": "markdown",
      "source": [
        "<p align='center'><img src=\"https://drive.google.com/uc?export=view&id=1XFAtVCk9eQqZdCowWriFfk0iGhuelR48\" width='25%' height='25%'></img></p>\n"
      ],
      "metadata": {
        "id": "al-npJalHn-C"
      }
    },
    {
      "cell_type": "markdown",
      "source": [
        "After an initial pass has been made through the network, the nueral net will use **backpropagation** to make improvements to its predictive ability.  The backpropagation algorithm will carefully consider how the weights should be reestimated.  "
      ],
      "metadata": {
        "id": "ZbQHwF4KgqOW"
      }
    },
    {
      "cell_type": "markdown",
      "source": [
        "<p align='center'><img src=\"https://drive.google.com/uc?export=view&id=1MUQVAUVujYuaw4CVY3FHuPLxciqtdv47\" width='60%' height='60%'></img></p>\n"
      ],
      "metadata": {
        "id": "KOJwx6E2GHIw"
      }
    },
    {
      "cell_type": "markdown",
      "source": [
        "Once the weights are updated, the neural network will proceed forward through the network, will reevaluate the predictive ability of the model, imply backpropagation, etc.  This iterative process continues many times until the algorithm has decided upon the weights which we hope produce the best possible predictions."
      ],
      "metadata": {
        "id": "nJ-lqiZdhVs3"
      }
    },
    {
      "cell_type": "markdown",
      "source": [
        "<p align='center'><img src=\"https://drive.google.com/uc?export=view&id=17SNHIphpPXBIw19PV-vs8yqht_5-wpYU\" width='50%' height='50%'></img></p>\n",
        "\n"
      ],
      "metadata": {
        "id": "eTeWs4yEIUDb"
      }
    },
    {
      "cell_type": "markdown",
      "source": [
        "## Data Preprocessing"
      ],
      "metadata": {
        "id": "KP2OAT9ViiJ4"
      }
    },
    {
      "cell_type": "markdown",
      "source": [
        "The following steps will be taken in order to prepare our data for the nueral network algorithm.\n",
        "\n",
        "*  The dataset will be separated into two pieces, $\\bf{X}$ and $y$. $\\bf{X}$ will contain all features that will be used as inputs. The $y$ vector will consist of the $Class$ variable.\n",
        "*  The $ID$ column must be removed from $\\bf{X}$"
      ],
      "metadata": {
        "id": "vsyvMP-XneWF"
      }
    },
    {
      "cell_type": "markdown",
      "source": [
        "<p align='center'><img src=\"https://drive.google.com/uc?export=view&id=1xkkzSocvg_ARm-nfQUZU0wDtiPZgSkDv\" width='50%' height='50%'></img></p>\n"
      ],
      "metadata": {
        "id": "q0pAssk4neuO"
      }
    },
    {
      "cell_type": "markdown",
      "source": [
        "The following code will create the $\\bf{X}$ data.frame that will be used as inputs into our neural network.  $\\bf{X$ will be converted to a numpy array as this needed for Tensor Flow."
      ],
      "metadata": {
        "id": "YHmOh94ZplxF"
      }
    },
    {
      "cell_type": "code",
      "source": [
        "X = WI_BreastCancer_DF.drop(['ID','Class'], axis=1).to_numpy()\n",
        "#Looking at first few lines of the array\n",
        "X[0:10]"
      ],
      "metadata": {
        "colab": {
          "base_uri": "https://localhost:8080/"
        },
        "id": "QWT1cHLaqC9s",
        "outputId": "6a411155-5c17-41b2-8354-edefeb194b03"
      },
      "execution_count": null,
      "outputs": [
        {
          "output_type": "execute_result",
          "data": {
            "text/plain": [
              "array([[ 5,  1,  1,  1,  2,  1,  3,  1,  1],\n",
              "       [ 5,  4,  4,  5,  7, 10,  3,  2,  1],\n",
              "       [ 3,  1,  1,  1,  2,  2,  3,  1,  1],\n",
              "       [ 6,  8,  8,  1,  3,  4,  3,  7,  1],\n",
              "       [ 4,  1,  1,  3,  2,  1,  3,  1,  1],\n",
              "       [ 8, 10, 10,  8,  7, 10,  9,  7,  1],\n",
              "       [ 1,  1,  1,  1,  2, 10,  3,  1,  1],\n",
              "       [ 2,  1,  2,  1,  2,  1,  3,  1,  1],\n",
              "       [ 2,  1,  1,  1,  2,  1,  1,  1,  5],\n",
              "       [ 4,  2,  1,  1,  2,  1,  2,  1,  1]])"
            ]
          },
          "metadata": {},
          "execution_count": 10
        }
      ]
    },
    {
      "cell_type": "markdown",
      "source": [
        "Recall, the neural network computes a weighted linear combination of the inputs for the first layer and a weighted linear combination of the node values thereafter.  The measurement **scale** of the features will certainly influence the selection of the weights.  If the scales vary across the features being considered, some type of scaling should be done before inputs are put into the neural network model fitting algorithm."
      ],
      "metadata": {
        "id": "SRvsiLNHrIBv"
      }
    },
    {
      "cell_type": "markdown",
      "source": [
        "The $MinMaxScaler$ and the $StandardScaler$ are the most common approaches to scaling the columns of $\\bf{X}$.\n",
        "\n",
        "*  The $MinMaxScaler$ will scale all values of a particular feature between two predetermined values, e.g. $1-10$.\n",
        "*  The $StandardScaler$ will scale the value of a particular feature to have a $Mean = 0$ and $St Dev = 1$; This is simply the $z-score$ transformation for each feature."
      ],
      "metadata": {
        "id": "ybwrlxBysRll"
      }
    },
    {
      "cell_type": "markdown",
      "source": [
        "\n",
        "\n",
        "---\n",
        "\n",
        "\n",
        "\n",
        "**Question**: Does scaling need to be done for our case?\n",
        "\n",
        "**Answer**: No, scaling appears to have been done already for us.\n",
        "\n"
      ],
      "metadata": {
        "id": "B9yYwoXZtU3N"
      }
    },
    {
      "cell_type": "code",
      "source": [
        "#Get a statistical summary of each feature in the X\n",
        "#Need to convert back to df for .describe()\n",
        "print(DataFrame(X).describe())"
      ],
      "metadata": {
        "colab": {
          "base_uri": "https://localhost:8080/"
        },
        "id": "9rCdzIceq13-",
        "outputId": "7468c188-dc13-40ab-ba6f-fa9ff1ed2e7f"
      },
      "execution_count": null,
      "outputs": [
        {
          "output_type": "stream",
          "name": "stdout",
          "text": [
            "                0           1           2           3           4           5  \\\n",
            "count  683.000000  683.000000  683.000000  683.000000  683.000000  683.000000   \n",
            "mean     4.442167    3.150805    3.215227    2.830161    3.234261    3.544656   \n",
            "std      2.820761    3.065145    2.988581    2.864562    2.223085    3.643857   \n",
            "min      1.000000    1.000000    1.000000    1.000000    1.000000    1.000000   \n",
            "25%      2.000000    1.000000    1.000000    1.000000    2.000000    1.000000   \n",
            "50%      4.000000    1.000000    1.000000    1.000000    2.000000    1.000000   \n",
            "75%      6.000000    5.000000    5.000000    4.000000    4.000000    6.000000   \n",
            "max     10.000000   10.000000   10.000000   10.000000   10.000000   10.000000   \n",
            "\n",
            "                6           7           8  \n",
            "count  683.000000  683.000000  683.000000  \n",
            "mean     3.445095    2.869693    1.603221  \n",
            "std      2.449697    3.052666    1.732674  \n",
            "min      1.000000    1.000000    1.000000  \n",
            "25%      2.000000    1.000000    1.000000  \n",
            "50%      3.000000    1.000000    1.000000  \n",
            "75%      5.000000    4.000000    1.000000  \n",
            "max     10.000000   10.000000   10.000000  \n"
          ]
        }
      ]
    },
    {
      "cell_type": "code",
      "source": [
        "#Create a scatterplot matrix of all features in X matrix\n",
        "scatter_matrix(DataFrame(X))"
      ],
      "metadata": {
        "colab": {
          "base_uri": "https://localhost:8080/",
          "height": 1000
        },
        "collapsed": true,
        "id": "Aap4OwEEGHPv",
        "outputId": "9dce60d1-5ef3-4966-9ce1-b837b1abc1a5"
      },
      "execution_count": null,
      "outputs": [
        {
          "output_type": "execute_result",
          "data": {
            "text/plain": [
              "array([[<Axes: xlabel='0', ylabel='0'>, <Axes: xlabel='1', ylabel='0'>,\n",
              "        <Axes: xlabel='2', ylabel='0'>, <Axes: xlabel='3', ylabel='0'>,\n",
              "        <Axes: xlabel='4', ylabel='0'>, <Axes: xlabel='5', ylabel='0'>,\n",
              "        <Axes: xlabel='6', ylabel='0'>, <Axes: xlabel='7', ylabel='0'>,\n",
              "        <Axes: xlabel='8', ylabel='0'>],\n",
              "       [<Axes: xlabel='0', ylabel='1'>, <Axes: xlabel='1', ylabel='1'>,\n",
              "        <Axes: xlabel='2', ylabel='1'>, <Axes: xlabel='3', ylabel='1'>,\n",
              "        <Axes: xlabel='4', ylabel='1'>, <Axes: xlabel='5', ylabel='1'>,\n",
              "        <Axes: xlabel='6', ylabel='1'>, <Axes: xlabel='7', ylabel='1'>,\n",
              "        <Axes: xlabel='8', ylabel='1'>],\n",
              "       [<Axes: xlabel='0', ylabel='2'>, <Axes: xlabel='1', ylabel='2'>,\n",
              "        <Axes: xlabel='2', ylabel='2'>, <Axes: xlabel='3', ylabel='2'>,\n",
              "        <Axes: xlabel='4', ylabel='2'>, <Axes: xlabel='5', ylabel='2'>,\n",
              "        <Axes: xlabel='6', ylabel='2'>, <Axes: xlabel='7', ylabel='2'>,\n",
              "        <Axes: xlabel='8', ylabel='2'>],\n",
              "       [<Axes: xlabel='0', ylabel='3'>, <Axes: xlabel='1', ylabel='3'>,\n",
              "        <Axes: xlabel='2', ylabel='3'>, <Axes: xlabel='3', ylabel='3'>,\n",
              "        <Axes: xlabel='4', ylabel='3'>, <Axes: xlabel='5', ylabel='3'>,\n",
              "        <Axes: xlabel='6', ylabel='3'>, <Axes: xlabel='7', ylabel='3'>,\n",
              "        <Axes: xlabel='8', ylabel='3'>],\n",
              "       [<Axes: xlabel='0', ylabel='4'>, <Axes: xlabel='1', ylabel='4'>,\n",
              "        <Axes: xlabel='2', ylabel='4'>, <Axes: xlabel='3', ylabel='4'>,\n",
              "        <Axes: xlabel='4', ylabel='4'>, <Axes: xlabel='5', ylabel='4'>,\n",
              "        <Axes: xlabel='6', ylabel='4'>, <Axes: xlabel='7', ylabel='4'>,\n",
              "        <Axes: xlabel='8', ylabel='4'>],\n",
              "       [<Axes: xlabel='0', ylabel='5'>, <Axes: xlabel='1', ylabel='5'>,\n",
              "        <Axes: xlabel='2', ylabel='5'>, <Axes: xlabel='3', ylabel='5'>,\n",
              "        <Axes: xlabel='4', ylabel='5'>, <Axes: xlabel='5', ylabel='5'>,\n",
              "        <Axes: xlabel='6', ylabel='5'>, <Axes: xlabel='7', ylabel='5'>,\n",
              "        <Axes: xlabel='8', ylabel='5'>],\n",
              "       [<Axes: xlabel='0', ylabel='6'>, <Axes: xlabel='1', ylabel='6'>,\n",
              "        <Axes: xlabel='2', ylabel='6'>, <Axes: xlabel='3', ylabel='6'>,\n",
              "        <Axes: xlabel='4', ylabel='6'>, <Axes: xlabel='5', ylabel='6'>,\n",
              "        <Axes: xlabel='6', ylabel='6'>, <Axes: xlabel='7', ylabel='6'>,\n",
              "        <Axes: xlabel='8', ylabel='6'>],\n",
              "       [<Axes: xlabel='0', ylabel='7'>, <Axes: xlabel='1', ylabel='7'>,\n",
              "        <Axes: xlabel='2', ylabel='7'>, <Axes: xlabel='3', ylabel='7'>,\n",
              "        <Axes: xlabel='4', ylabel='7'>, <Axes: xlabel='5', ylabel='7'>,\n",
              "        <Axes: xlabel='6', ylabel='7'>, <Axes: xlabel='7', ylabel='7'>,\n",
              "        <Axes: xlabel='8', ylabel='7'>],\n",
              "       [<Axes: xlabel='0', ylabel='8'>, <Axes: xlabel='1', ylabel='8'>,\n",
              "        <Axes: xlabel='2', ylabel='8'>, <Axes: xlabel='3', ylabel='8'>,\n",
              "        <Axes: xlabel='4', ylabel='8'>, <Axes: xlabel='5', ylabel='8'>,\n",
              "        <Axes: xlabel='6', ylabel='8'>, <Axes: xlabel='7', ylabel='8'>,\n",
              "        <Axes: xlabel='8', ylabel='8'>]], dtype=object)"
            ]
          },
          "metadata": {},
          "execution_count": 12
        },
        {
          "output_type": "display_data",
          "data": {
            "text/plain": [
              "<Figure size 640x480 with 81 Axes>"
            ],
            "image/png": "[encoded data removed]"
          },
          "metadata": {}
        }
      ]
    },
    {
      "cell_type": "markdown",
      "source": [
        "The following code will create the $\\bf{y}$ vector that will be used by our neural net algorithm. Again, $\\bf{y}$ will be converted to an numpy array for Tensor Flow."
      ],
      "metadata": {
        "id": "lNGbdh9Duwgm"
      }
    },
    {
      "cell_type": "code",
      "source": [
        "y = WI_BreastCancer_DF['Class'].to_numpy()\n",
        "y[0:10]"
      ],
      "metadata": {
        "colab": {
          "base_uri": "https://localhost:8080/"
        },
        "id": "U-5o1hyxuwnn",
        "outputId": "ba3455e7-e393-4eb5-e4ed-897532cfbc1a"
      },
      "execution_count": null,
      "outputs": [
        {
          "output_type": "execute_result",
          "data": {
            "text/plain": [
              "array([0, 0, 0, 0, 0, 1, 0, 0, 0, 0])"
            ]
          },
          "metadata": {},
          "execution_count": 13
        }
      ]
    },
    {
      "cell_type": "code",
      "source": [
        "# ensure the labels have been encoded to be integers\n",
        "y = LabelEncoder().fit_transform(y)"
      ],
      "metadata": {
        "id": "q7uAGpgYz_uJ"
      },
      "execution_count": null,
      "outputs": []
    },
    {
      "cell_type": "markdown",
      "source": [
        "## Validation"
      ],
      "metadata": {
        "id": "zplS8FY90UNK"
      }
    },
    {
      "cell_type": "markdown",
      "source": [
        "**Validation** is a concept that is used to ensure that a model is able to accurately predict new samples.  Validation helps ensure that your predictive model is not **overfitting** the data. Overfitting occurs when the model appears to have good predictive performance for the data used to build the model, but does not perfom well when given a new samples.\n",
        "\n",
        "Validation partitions the data into two (or more) groups – one group is used to build the predictive model, and the other group(s) is used to evaluate the predictive ability of a model. There are a variety of approaches that can be used to partition the data into two (or more groups). Two of the more common validation methods are mentioned here.\n"
      ],
      "metadata": {
        "id": "IoRARpnH3RdJ"
      }
    },
    {
      "cell_type": "markdown",
      "source": [
        "\n",
        "For simplicity, suppose all observations from a data set are placed into a “hat”."
      ],
      "metadata": {
        "id": "2j8sZVaH3Zu6"
      }
    },
    {
      "cell_type": "markdown",
      "source": [
        "<p align='center'><img src=\"https://drive.google.com/uc?export=view&id=1_mdxVs4ZY2-7lz-XdtwYIOiaVJRrBYdU\" width='15%' height='15%'></img></p>"
      ],
      "metadata": {
        "id": "dCr7tdxy2ByS"
      }
    },
    {
      "cell_type": "markdown",
      "source": [
        "**Split-Sample**: the observations are randomly divided into a training set and a test set\n",
        "\n",
        "*  Training set: data that is used to build the predictive model\n",
        "*  Test set: data that is used to evaluate the predictive performance of the model"
      ],
      "metadata": {
        "id": "su9Xz6CE4N1L"
      }
    },
    {
      "cell_type": "markdown",
      "source": [
        "<p align='center'><img src=\"https://drive.google.com/uc?export=view&id=13jQFbTGsBtGBuADRHEUemsxpNR9lX_UJ\" width='20%' height='20%'></img><br>\n",
        "<img src=\"https://drive.google.com/uc?export=view&id=1fsVJuD_YJei555J85NLAcdEwFiC93qt-\" width='35%' height='35%'></img></p>"
      ],
      "metadata": {
        "id": "UjBrdSch2NYS"
      }
    },
    {
      "cell_type": "markdown",
      "source": [
        "Some comments about split-sample:\n",
        "\n",
        "*  A 75% : 25% split is often used for split-sample cross-validation; 75% of the observations are put into the training set and the remaining 25% are put into the test set. Variations to these proportions are common, e.g. 80% : 20% or 67% : 33%, etc.\n",
        "*  The predictive performance of the model is measured using a subset of the observations, i.e. only the observations in the test set. This simulates how our model would theoretically perform on \"new\" data points.\n",
        "*  Split-sample is one of the simpliest methods for doing cross-validation.  One short-coming of split-sample is that not all observations are used to build the predictive model.\n",
        "*  Problem is that bias creeps in if train-test split is not representative of population.\n",
        "*  Better approach is to use $k$-fold cross-validation."
      ],
      "metadata": {
        "id": "eJjosMJ541cj"
      }
    },
    {
      "cell_type": "markdown",
      "source": [
        "\n",
        "\n",
        "---\n",
        "\n"
      ],
      "metadata": {
        "id": "wIboYKMb25rg"
      }
    },
    {
      "cell_type": "markdown",
      "source": [
        "**k-Fold Cross-Validation**: the data is randomly partitioned into $k$\n",
        " distinct folds (i.e. groups) – each fold should have about the same number of observations.  Here, the data has been divided into 5\n",
        " distinct folds, i.e. $5-Fold$ cross-validation."
      ],
      "metadata": {
        "id": "0ugmlPDk5RqS"
      }
    },
    {
      "cell_type": "markdown",
      "source": [
        "<p align='center'><img src=\"https://drive.google.com/uc?export=view&id=1nd8Z3h0Mj2PIke_3kU8Bx9N6wV4xdB9P\" width='20%' height='20%'></img></p>"
      ],
      "metadata": {
        "id": "sVilcl6y5mGC"
      }
    },
    {
      "cell_type": "markdown",
      "source": [
        "*  A predictive model is built using all folds except 1. The predictive performance of the model is evaluated using the fold withheld from the model building step. This process is repeated across all folds."
      ],
      "metadata": {
        "id": "uOP_MSB46BCx"
      }
    },
    {
      "cell_type": "markdown",
      "source": [
        "<p align='center'><img src=\"https://drive.google.com/uc?export=view&id=1lHffSOL6MfFZjldatqoqJGRGJFgXxKaU\" width='40%' height='40%'></img></p>\n"
      ],
      "metadata": {
        "id": "lLeyMOb02gcU"
      }
    },
    {
      "cell_type": "markdown",
      "source": [
        "<p align='center'><img src=\"https://drive.google.com/uc?export=view&id=1HJv470iV-Knoti_KC8oEo9Z-UrP_YN8R\" width='40%' height='40%'></img></p>"
      ],
      "metadata": {
        "id": "8V61Ieln2z_y"
      }
    },
    {
      "cell_type": "markdown",
      "source": [
        "$$\\huge Etc$$"
      ],
      "metadata": {
        "id": "TtM_RRo46IPZ"
      }
    },
    {
      "cell_type": "markdown",
      "source": [
        "<p align='center'><img src=\"https://drive.google.com/uc?export=view&id=1s3V9BM6UJawWeKD3D0pXdXi-AT73tPRG\" width='40%' height='40%'></img></p>"
      ],
      "metadata": {
        "id": "0kt8gMoO3EUT"
      }
    },
    {
      "cell_type": "markdown",
      "source": [
        "*  Most often the value of $k$ ranges from $5$ to $10$ for $k$-Fold cross-validation.\n",
        "* A total of $k$ predictive models are constructed; the predictive models will vary from one fold to the next.  $K$-Fold cross-validaiton is more computationally intensive than split-sample.\n",
        "* A $k$-Fold cross-validation process ensures that predictions are made once for all observations.\n",
        "* For small datasets, bias may still be a concern. In this case, set $k$ equal to the number of instances. This way $k$ train-test iterations will occur. On each iteration, a different one of the $k$ instances is held out as the single test point. This is called **leave-one-out cross-validation**.\n"
      ],
      "metadata": {
        "id": "ydxSh0RP6eXU"
      }
    },
    {
      "cell_type": "markdown",
      "source": [
        "\n",
        "\n",
        "---\n",
        "\n"
      ],
      "metadata": {
        "id": "L_YZ5b9D7Z86"
      }
    },
    {
      "cell_type": "markdown",
      "source": [
        "For this example, we will use a split-sample cross-validation approach.  The split-sample will use $75\\%$ of the samples for the training set and $25\\%$ of the samples for the test set, i.e. a $75:25$ specification."
      ],
      "metadata": {
        "id": "Ii_AaaMK7bNg"
      }
    },
    {
      "cell_type": "code",
      "source": [
        "# Partion data into training set and test set\n",
        "# shuffle = True ensures samples are randomly selected for each set\n",
        "X_train, X_test, y_train, y_test = train_test_split(X,y ,\n",
        "                                                    test_size=0.25,\n",
        "                                                    shuffle=True)"
      ],
      "metadata": {
        "id": "hx9uG6fCnSpF"
      },
      "execution_count": null,
      "outputs": []
    },
    {
      "cell_type": "markdown",
      "source": [
        "## Fitting the Neural Net"
      ],
      "metadata": {
        "id": "Jg-dks-28DJK"
      }
    },
    {
      "cell_type": "markdown",
      "source": [
        "In this handout, the nueral network will be fit using Tensor Flow + Keres.  There are four distinct components when fitting a nueral network model with Tensor Flow + Keras.\n",
        "\n",
        "1.   Model specification\n",
        "2.   Compiling the model\n",
        "3.   Fitting the model"
      ],
      "metadata": {
        "id": "fe_IbDzS9Bsl"
      }
    },
    {
      "cell_type": "markdown",
      "source": [
        "### 1. Model Specification"
      ],
      "metadata": {
        "id": "UTINmL43-Yoq"
      }
    },
    {
      "cell_type": "markdown",
      "source": [
        "The number of features in $\\bf{X}$ will be needed in the model specification step."
      ],
      "metadata": {
        "id": "zn5lgX9B-hvh"
      }
    },
    {
      "cell_type": "code",
      "source": [
        "# determine the number of input features\n",
        "n_features = X_train.shape[1]\n",
        "print(n_features)"
      ],
      "metadata": {
        "id": "HcteJEy9oFFi",
        "colab": {
          "base_uri": "https://localhost:8080/"
        },
        "outputId": "0ce8d702-e87b-444e-d85f-050d1faf79eb"
      },
      "execution_count": null,
      "outputs": [
        {
          "output_type": "stream",
          "name": "stdout",
          "text": [
            "9\n"
          ]
        }
      ]
    },
    {
      "cell_type": "markdown",
      "source": [
        "Our neural network model will be initiated using the following. This allows one to build models layer-by-layer which is referred to a linear stack of layers.\n",
        "\n",
        "*model = Sequential()*\n"
      ],
      "metadata": {
        "id": "NP2Whkgx-uTi"
      }
    },
    {
      "cell_type": "markdown",
      "source": [
        "The $1^{st}$ hidden layer will be specified as follows.\n",
        "\n",
        "*model.add(Dense(# Nodes, activation='relu', kernal_initializer='he_normal', input_shape = # Features) )*\n",
        "\n",
        "where\n",
        " * \\# Nodes is the number of desired nodes in the first hidden layer\n",
        " * The $relu$ activation function that will be used in this layer\n",
        " * The kernal_initalizer determines how weights are initially computed.  Most suggest that $he\\_normal$ is best when using $relu$ as the activation function\n",
        " * The number of features is contained in variable $n\\_features$"
      ],
      "metadata": {
        "id": "5UXfs1Eo_8NL"
      }
    },
    {
      "cell_type": "markdown",
      "source": [
        "The $2^{nd}$ hidden layer of the network follows from the $1^{st}$ layer.  The number of features does not need to be passed onto the $2^{nd}$ layer."
      ],
      "metadata": {
        "id": "JKHxWN8HD4vi"
      }
    },
    {
      "cell_type": "markdown",
      "source": [
        "Recall, the *last* layer in a neural network that is used for classification must return a probability.  Thus, a single node is used with the activiation function set to *sigmoid*."
      ],
      "metadata": {
        "id": "jUH_Szr5EW0i"
      }
    },
    {
      "cell_type": "markdown",
      "source": [
        "*model.add(Dense(1, activation='sigmoid'))*"
      ],
      "metadata": {
        "id": "veJx96XRE0ui"
      }
    },
    {
      "cell_type": "code",
      "source": [
        "# Initiate the model\n",
        "model = Sequential()\n",
        "\n",
        "# Two layers of 10 and 8 nodes, respectively\n",
        "model.add(Dense(10, activation='relu', kernel_initializer='he_normal', input_shape=(n_features,)))\n",
        "model.add(Dense(8, activation='relu', kernel_initializer='he_normal'))\n",
        "\n",
        "# Last layer will be one node and output a probability value in the range [0,1]\n",
        "model.add(Dense(1, activation='sigmoid'))"
      ],
      "metadata": {
        "colab": {
          "base_uri": "https://localhost:8080/"
        },
        "id": "KwDQooN-yNMl",
        "outputId": "d51340ab-1dbe-4ea7-ed44-805aa6763815"
      },
      "execution_count": null,
      "outputs": [
        {
          "output_type": "stream",
          "name": "stderr",
          "text": [
            "/usr/local/lib/python3.11/dist-packages/keras/src/layers/core/dense.py:87: UserWarning: Do not pass an `input_shape`/`input_dim` argument to a layer. When using Sequential models, prefer using an `Input(shape)` object as the first layer in the model instead.\n",
            "  super().__init__(activity_regularizer=activity_regularizer, **kwargs)\n"
          ]
        }
      ]
    },
    {
      "cell_type": "markdown",
      "source": [
        "### 2. Complier Specification"
      ],
      "metadata": {
        "id": "_xkzVIstFKIK"
      }
    },
    {
      "cell_type": "markdown",
      "source": [
        "There are three parameters that will be passed into the complier.\n",
        "\n",
        "*   optimizer: identifies the gradient decent method to use; here Stochastic gradient descent (sgd) will be used as this approach is computationally efficient\n",
        "*   loss: specifies the type of loss function to use when evaluating model performance; here $binary\\_crossentropy$ as the Class variable is binary\n",
        "*   metrics: Area Under Curve (auc) and Accuracy will be the model performance metrics that will be returned by the compiler"
      ],
      "metadata": {
        "id": "1w4PPIIeFeBw"
      }
    },
    {
      "cell_type": "markdown",
      "source": [
        "<p align='center'><img src=\"https://drive.google.com/uc?export=view&id=1sD_Yn5Ot-jK9yWparhxulx-2J9Xc7NIU\" width='50%' height='50%'></img></p>\n",
        "\n",
        "Image Source: https://easyai.tech/en/ai-definition/gradient-descent/"
      ],
      "metadata": {
        "id": "N7iaA29-HWt0"
      }
    },
    {
      "cell_type": "code",
      "source": [
        "# Specification of the compiler for the nueraul network model\n",
        "model.compile(optimizer='sgd', loss='binary_crossentropy', metrics=['auc','accuracy'])"
      ],
      "metadata": {
        "id": "4joiqRG7zSDF"
      },
      "execution_count": null,
      "outputs": []
    },
    {
      "cell_type": "markdown",
      "source": [
        "### 3. Fitting the Model"
      ],
      "metadata": {
        "id": "QlbcGKlkJpwJ"
      }
    },
    {
      "cell_type": "markdown",
      "source": [
        "Recall, only the *training* data is used to build the model thus it is passed into the model fitting algorithm.  \n",
        "\n",
        "*  Specify the features and class variable from the training set\n",
        "*  batch_size: this specifies how many samples are pushed through the neural network at one time; using a small batch_size can greatly improve the efficiency of the model fitting algorithm\n",
        "*  epochs: this specifies the number of \"backpropagation -> update weights -> fit -> evaluate performance\" cylces are done; usually epoches is no more than 100"
      ],
      "metadata": {
        "id": "vkOuUG0pJ3H5"
      }
    },
    {
      "cell_type": "code",
      "source": [
        "# fit the model\n",
        "model.fit(X_train, y_train, epochs=100, batch_size=32, verbose=0)"
      ],
      "metadata": {
        "colab": {
          "base_uri": "https://localhost:8080/"
        },
        "id": "8KA0EXnxzTz_",
        "outputId": "bf1cf5e9-4d02-4016-a8c8-f5c5a9b1ef67"
      },
      "execution_count": null,
      "outputs": [
        {
          "output_type": "execute_result",
          "data": {
            "text/plain": [
              "<keras.src.callbacks.history.History at 0x788827a36050>"
            ]
          },
          "metadata": {},
          "execution_count": 19
        }
      ]
    },
    {
      "cell_type": "markdown",
      "source": [
        "## Model Performance Metrics"
      ],
      "metadata": {
        "id": "RESJBxhNMO8R"
      }
    },
    {
      "cell_type": "markdown",
      "source": [
        "After a model has been fit using the *training* data, interest lies in the model's ability to make valid predictions for a new set of data, i.e. the *test* data.  Two common metrics that are be used to evaluate a model's predictive ability are considered here.\n",
        "\n",
        "*  **Accuracy**: the proportion of predictions that were correct\n",
        "\n",
        "$$\\mbox{Accuracy} = \\frac{\\mbox{Correct Predictions}}{\\mbox{Total Predictions}}$$\n",
        "\n",
        "* **Understanding Accuracy**:  Accuracy is the simpliest metric one could use for evaluating model performance. Realize that flipping-a-coin will produce $50\\%$ accuracy for a binary classification problem.  Furthermore, when the labels within the Class variable are imbalanced, model accuracy should prefer better than predicting all labels as positive or predicting all labels as negative.\n",
        "\n",
        "*  **Area Under ROC**: an ROC curve considers both the sensitivity (true positive rate) and complement of specificity, i.e. ($1 - \\mbox{true negative rate}$), of the predictions from the model.    \n",
        "\n",
        "$$\\mbox{Sensitivity} = \\frac{\\mbox{Correct Positive Predictions}}{\\mbox{Correct Positive Predictions + Incorrect Positive Predictions}}$$\n",
        "\n",
        "$$(1-\\mbox{Specificity}) = \\bigr( 1 - \\frac{\\mbox{Correct Negative Predictions}}{\\mbox{Correct Negative Predictions + Incorrect Negative Predictions}} \\bigl)$$"
      ],
      "metadata": {
        "id": "gXMvxqOFc6XQ"
      }
    },
    {
      "cell_type": "markdown",
      "source": [
        "\n",
        "*  **How to Read an ROC Plot**\n",
        "\n",
        "1.   A ROC plot displays the relationship between $Sensitivity$ and $(1-Specificity)$.  We want $Sensitivity$ to be high and $(1-Specificity)$ to be low.  \n",
        "2.   The threshold value that produces the point closest to the upper-right hand corner in the plot is considered to be the optimial threshold value.\n",
        "3.   The Class variable is binary, thus simply flipping-a-coin will result in half of the predictions be correct.  A good predicitive model will have a large amount of area under the ROC curve.\n",
        "4. Area Under ROC can be used to compare the performance across a variety of machine learning algorithms."
      ],
      "metadata": {
        "id": "XNJZ-LBRZrK6"
      }
    },
    {
      "cell_type": "markdown",
      "source": [
        "<p align='center'><img src=\"https://drive.google.com/uc?export=view&id=1m66adnfoWpPO52t2JiY4ArXEkgQd34Ry\" width='35%' height='35%'></img></p>\n"
      ],
      "metadata": {
        "id": "YR4N2D2jXI8e"
      }
    },
    {
      "cell_type": "markdown",
      "source": [
        "**Additional notes:**\n",
        "\n",
        "* $Sensitivity$ (y-axis) is often referred to as the *True Positive Rate* (or *TPR* for short).\n",
        "* $1-Specificity$ (x-axis) is often referred to as the *False Positive Rate* (or *FPR* for short)."
      ],
      "metadata": {
        "id": "tgRZBWCxBHcK"
      }
    },
    {
      "cell_type": "markdown",
      "source": [
        "\n",
        "\n",
        "---\n",
        "\n"
      ],
      "metadata": {
        "id": "PXL6IYN2d7V-"
      }
    },
    {
      "cell_type": "markdown",
      "source": [
        "Situation \\#1: Using a threshold value of $50\\%$:"
      ],
      "metadata": {
        "id": "U5AVmgAofIac"
      }
    },
    {
      "cell_type": "markdown",
      "source": [
        "Observations from Situation #1:\n",
        "\n",
        "* A total of $68$ samples had a predicted probability above $50\\%$.  Thus, $68$ samples were predicted to be malignant by the nueral net model.\n",
        "* Of the $68$ samples that were predicted to be malignant, $65$ were correct and $3$ were incorrect.\n",
        "* A total of $103$ samples had a a predicted probability below $50\\%$.  Thus, $103$ samples were predicted to be benign by the nueral net model.\n",
        "* Of the $103$ samples that were predicted to be benign, $96$ were correct and $7$ were incorrect.\n"
      ],
      "metadata": {
        "id": "5DQluZYDfeAk"
      }
    },
    {
      "cell_type": "markdown",
      "source": [
        "<p align='center'><img src=\"https://drive.google.com/uc?export=view&id=155bFPWVif2m2ZBF35vCgoM1GXW8bbfxe\" width='40%' height='40%'></img></p>\n"
      ],
      "metadata": {
        "id": "tGJW5Tndbrl1"
      }
    },
    {
      "cell_type": "markdown",
      "source": [
        "These correct and incorrect predictions are provided in the table below.  This table is commonly referred to as a **confusion matrix**."
      ],
      "metadata": {
        "id": "IMGUjzyXgutP"
      }
    },
    {
      "cell_type": "markdown",
      "source": [
        "<p align='center'><img src=\"https://drive.google.com/uc?export=view&id=1BicW3tyEODehplN0TN5C6vRq_4hBa4Ym\" width='25%' height='25%'></img></p>"
      ],
      "metadata": {
        "id": "uc8AcmFIbx4-"
      }
    },
    {
      "cell_type": "markdown",
      "source": [
        "The accuracy metric for this confusion matrix is computed as follows."
      ],
      "metadata": {
        "id": "48qeRNFGg6_7"
      }
    },
    {
      "cell_type": "markdown",
      "source": [
        "$$\\begin{array}{rcl}\n",
        "Accuracy & = & \\frac{\\mbox{Correct Predictions}}{\\mbox{Total Predictions}} \\\\\n",
        "& = & \\frac{(96+65)}{(96+3+7+65)} \\\\\n",
        "& = & \\frac{161}{171} \\\\\n",
        "& = & 94.2 \\% \\\\ \\end{array}$$"
      ],
      "metadata": {
        "id": "S0KFTOSRhWdU"
      }
    },
    {
      "cell_type": "markdown",
      "source": [
        "Furthermore, consider the calculation for $Sensitivity$\n",
        "\n",
        "$$\\begin{array}{rcl}\n",
        "Sensitivity & = & \\frac{\\mbox{65}}{\\mbox{7+65}} \\\\\n",
        "& = & \\frac{65}{72} \\\\\n",
        "& = & 90.3 \\% \\\\ \\end{array}$$"
      ],
      "metadata": {
        "id": "8ZVwSto7abSj"
      }
    },
    {
      "cell_type": "markdown",
      "source": [
        "and for and $(1-Specificity)$\n",
        "\n",
        "\n",
        "$$\\begin{array}{rcl}\n",
        "(1-Specificity) & = & 1- (\\frac{\\mbox{96}}{\\mbox{96+3}}) \\\\\n",
        "& = & 1 - 0.97 \\\\\n",
        "& = & 3 \\% \\\\ \\end{array}$$"
      ],
      "metadata": {
        "id": "QvC6h9dIbGWD"
      }
    },
    {
      "cell_type": "markdown",
      "source": [
        "\n",
        "\n",
        "---\n",
        "\n"
      ],
      "metadata": {
        "id": "f5DZ25fKd4fA"
      }
    },
    {
      "cell_type": "markdown",
      "source": [
        "Situation \\#2: Using a threshold value of $60\\%$:"
      ],
      "metadata": {
        "id": "rnnUflL3Odr3"
      }
    },
    {
      "cell_type": "markdown",
      "source": [
        "<p align='center'><img src=\"https://drive.google.com/uc?export=view&id=16aaE3YyEef6hgUztBTRNT9yd2xldOMTk\" width='65%' height='65%'></img></p>\n",
        "\n"
      ],
      "metadata": {
        "id": "Na_PIvpob2Mw"
      }
    },
    {
      "cell_type": "markdown",
      "source": [
        "Performance Measures when using a threshold of $60\\%$.\n",
        "\n",
        "*  $Accuracy = 93.6\\%$\n",
        "*  $Sensitivity = 87.5\\%$ and $(1 - Specificity) = 2\\%$"
      ],
      "metadata": {
        "id": "158erroPdK9T"
      }
    },
    {
      "cell_type": "markdown",
      "source": [
        "\n",
        "\n",
        "---\n",
        "\n"
      ],
      "metadata": {
        "id": "92GHYNacd2xU"
      }
    },
    {
      "cell_type": "markdown",
      "source": [
        "Situation #3: Using a threshold value of  10% :"
      ],
      "metadata": {
        "id": "pWJA6Ljsd2CE"
      }
    },
    {
      "cell_type": "markdown",
      "source": [
        "<p align='center'><img src=\"https://drive.google.com/uc?export=view&id=1_XADZ5aPEM9N7vGWJ_yzLOLHQbztSLao\" width='65%' height='65%'></img></p>\n"
      ],
      "metadata": {
        "id": "SJuPNl9KcItZ"
      }
    },
    {
      "cell_type": "markdown",
      "source": [
        "Performance Measures when using a threshold of $10\\%$.\n",
        "\n",
        "*  $Accuracy = 86.5\\%$\n",
        "*  $Sensitivity = 98.6\\%$ and $(1 - Specificity) = 22.2\\%$"
      ],
      "metadata": {
        "id": "zDk4c1RCM9Mn"
      }
    },
    {
      "cell_type": "markdown",
      "source": [
        "\n",
        "\n",
        "---\n",
        "\n"
      ],
      "metadata": {
        "id": "OnTD0fXxM-4v"
      }
    },
    {
      "cell_type": "markdown",
      "source": [
        "Situation #4: Using a threshold value of  100% (predicting all samples to be Benign):"
      ],
      "metadata": {
        "id": "o_NNDvT5M4j-"
      }
    },
    {
      "cell_type": "markdown",
      "source": [
        "<p align='center'><img src=\"https://drive.google.com/uc?export=view&id=1NTfpDpECMQqnkkpl11AjAGFzblYuq0C6\" width='65%' height='65%'></img></p>\n"
      ],
      "metadata": {
        "id": "btPGSr4FMwVQ"
      }
    },
    {
      "cell_type": "markdown",
      "source": [
        "Performance Measures when using a threshold of $100\\%$.\n",
        "\n",
        "*  $Accuracy = 57.9\\%$\n",
        "*  $Sensitivity = 0.0\\%$ and $(1 - Specificity) = 0.0\\%$"
      ],
      "metadata": {
        "id": "-5n_dcC-eCr8"
      }
    },
    {
      "cell_type": "markdown",
      "source": [
        "Comment:  Predicting the Class variable as Benign for all samples will be correct $58\\%$ of time.  Thus, the gain in performance accuracy should be evaluated against $58\\%$."
      ],
      "metadata": {
        "id": "x5OVgb5Pt1Wd"
      }
    },
    {
      "cell_type": "markdown",
      "source": [
        "\n",
        "\n",
        "---\n",
        "\n"
      ],
      "metadata": {
        "id": "Cxp1ltjshu3c"
      }
    },
    {
      "cell_type": "markdown",
      "source": [
        "Now, let's re-consider the predictions from Scenario 3 above:\n",
        "<br><br>\n",
        "<p align='center'><img src=\"https://drive.google.com/uc?export=view&id=18BIPifworiugPOtWP7MxTgtvVDzj-PCq\" width='65%' height='65%'></img></p>\n",
        "\n",
        "Note that all 93 instances in the shaded region will be classified as \"malignant\" given the 10% threshold. The red instances in the shaded region are **true positives**, while the green ones are **false positives**. The red instances in the unshaded region are **false negatives**, while the green ones are **true negatives**.\n",
        "<br><br>\n",
        "In certain circumstances, we might want to determine how many of these predictions are \"true positives.\" In such circumstances, we can use one of a few metrics:\n",
        "<br><br>\n",
        "$$\\begin{array}{rcl}\n",
        "Precision  & = & \\frac{\\mbox{Correct Malignant Predictions}}{\\mbox{Total Malignant Predictions}} \\\\\n",
        "& = & \\frac{71}{(71+22)} \\\\\n",
        "& = & \\frac{71}{93} \\\\\n",
        "& \\approx & 0.763 \\\\ \\end{array}$$\n",
        "<br><br>\n",
        "$$\\begin{array}{rcl}\n",
        "Recall  & = & \\frac{\\mbox{Correct Malignant Predictions}}{\\mbox{Total Malignant Instances}} \\\\\n",
        "& = & \\frac{71}{(71+1)} \\\\\n",
        "& = & \\frac{71}{72} \\\\\n",
        "& \\approx & 0.986 \\\\ \\end{array}$$\n",
        "<br><br>\n",
        "$$\\begin{array}{rcl}\n",
        "F_1  & = &  2 * \\frac{\\mbox{precision * recall}}{\\mbox{precision + recall}} \\\\\n",
        "& = & 2 * \\frac{(0.763 * 0.986)}{(0.763 + 0.986)} \\\\\n",
        "& \\approx & 2 *  0.43 \\\\\n",
        "& = & 0.86  \\\\ \\end{array}$$\n",
        "<br><br>\n",
        "We will want to choose *precision* for applications where you are more concerned about **false positives**. Choose *recall* for applications where you are more concerned with **false negatives**.\n",
        "\n"
      ],
      "metadata": {
        "id": "3szkbSL22oLP"
      }
    },
    {
      "cell_type": "markdown",
      "source": [
        "\n",
        "\n",
        "---\n",
        "\n"
      ],
      "metadata": {
        "id": "OL__nMuRK96n"
      }
    },
    {
      "cell_type": "markdown",
      "source": [
        "## Making Predictions for the Test Set"
      ],
      "metadata": {
        "id": "nybGD8lQhwEx"
      }
    },
    {
      "cell_type": "markdown",
      "source": [
        "The model.predict() object can be used to make predictions with your nueral network model.  Model performance should be evaluated on the *test* dataset; thus, the features from the *test* dataset are passed into model.predict in this code."
      ],
      "metadata": {
        "id": "xJvrbArYh8Tf"
      }
    },
    {
      "cell_type": "code",
      "source": [
        "# Getting predictions for the features in the test set\n",
        "Predictions_Test = model.predict(X_test)"
      ],
      "metadata": {
        "colab": {
          "base_uri": "https://localhost:8080/"
        },
        "id": "l_9lyLV9HZfc",
        "outputId": "b0108634-190e-4abf-8452-977c88570b92"
      },
      "execution_count": null,
      "outputs": [
        {
          "output_type": "stream",
          "name": "stdout",
          "text": [
            "\u001b[1m6/6\u001b[0m \u001b[32m━━━━━━━━━━━━━━━━━━━━\u001b[0m\u001b[37m\u001b[0m \u001b[1m0s\u001b[0m 13ms/step\n"
          ]
        }
      ]
    },
    {
      "cell_type": "code",
      "source": [
        "#Taking a quick look at the predictions\n",
        "print(DataFrame(Predictions_Test))"
      ],
      "metadata": {
        "colab": {
          "base_uri": "https://localhost:8080/"
        },
        "id": "Oe-fRwZ6Nj6H",
        "outputId": "8b3f499f-ecc5-4c1c-c4b6-42fea5fba24b"
      },
      "execution_count": null,
      "outputs": [
        {
          "output_type": "stream",
          "name": "stdout",
          "text": [
            "            0\n",
            "0    0.130649\n",
            "1    0.799084\n",
            "2    0.411632\n",
            "3    0.036178\n",
            "4    0.953073\n",
            "..        ...\n",
            "166  0.992257\n",
            "167  0.986323\n",
            "168  0.596683\n",
            "169  0.995149\n",
            "170  0.010809\n",
            "\n",
            "[171 rows x 1 columns]\n"
          ]
        }
      ]
    },
    {
      "cell_type": "markdown",
      "source": [
        "\n",
        "\n",
        "---\n",
        "\n"
      ],
      "metadata": {
        "id": "8BmB7O1sbJqX"
      }
    },
    {
      "cell_type": "markdown",
      "source": [
        "## Computing Model Performance Metrics"
      ],
      "metadata": {
        "id": "3sveH6FhbLC5"
      }
    },
    {
      "cell_type": "markdown",
      "source": [
        "The following code can be be used to compute $Accuracy$ and $Area \\, Under \\, ROC$.  These metrics should be computed on the *test* set."
      ],
      "metadata": {
        "id": "_FAHEXeZXGkv"
      }
    },
    {
      "cell_type": "code",
      "source": [
        "# Using model.evaluate to obtain acc and auc\n",
        "losstest, acctest, auctest  = model.evaluate(X_test, y_test, verbose=0)\n",
        "\n",
        "print('Model Accuracy for Test Set: %.3f' % acctest)\n",
        "print('Area Under Curve for Test Set: %.3f' % auctest)"
      ],
      "metadata": {
        "colab": {
          "base_uri": "https://localhost:8080/"
        },
        "id": "pgpaDOvf0Tio",
        "outputId": "d2d6c4cb-002d-4fd7-d1c5-10ebfb461d96"
      },
      "execution_count": null,
      "outputs": [
        {
          "output_type": "stream",
          "name": "stdout",
          "text": [
            "Model Accuracy for Test Set: 0.981\n",
            "Area Under Curve for Test Set: 0.947\n"
          ]
        }
      ]
    },
    {
      "cell_type": "markdown",
      "source": [
        "The following code can be used to create an $ROC \\, Plot$. This code uses the custom plot_roc() function provided above."
      ],
      "metadata": {
        "id": "FAHpAzvzkGvY"
      }
    },
    {
      "cell_type": "code",
      "source": [
        "# Do an ROC curve\n",
        "colors = plt.rcParams['axes.prop_cycle'].by_key()['color']\n",
        "plot_roc(\"ROC Curve \", y_test, Predictions_Test, color=colors[0])\n",
        "plt.legend(loc='lower right');"
      ],
      "metadata": {
        "colab": {
          "base_uri": "https://localhost:8080/",
          "height": 449
        },
        "id": "z9lZPSdk0dXg",
        "outputId": "68cbaf10-34d1-48a3-c819-a9a9e0512f98"
      },
      "execution_count": null,
      "outputs": [
        {
          "output_type": "display_data",
          "data": {
            "text/plain": [
              "<Figure size 640x480 with 1 Axes>"
            ],
            "image/png": "[encoded data removed]"
          },
          "metadata": {}
        }
      ]
    },
    {
      "cell_type": "markdown",
      "source": [
        "The following code can be used to create a confusion matrix / plot. This code uses the custom plot_cm() function provided above.  The parameters of this function include the actual class values, the predicted class values, and specification of the threshold that is used to make label predictions for the Class variable."
      ],
      "metadata": {
        "id": "VWp4IWxLjZhL"
      }
    },
    {
      "cell_type": "code",
      "source": [
        "plot_cm(y_test, Predictions_Test, threshold = 0.50)"
      ],
      "metadata": {
        "colab": {
          "base_uri": "https://localhost:8080/",
          "height": 487
        },
        "id": "lr5FYZbXjZsq",
        "outputId": "83f5088d-a45d-4d92-a39f-7aa132dfdd66"
      },
      "execution_count": null,
      "outputs": [
        {
          "output_type": "display_data",
          "data": {
            "text/plain": [
              "<Figure size 500x500 with 2 Axes>"
            ],
            "image/png": "[encoded data removed]"
          },
          "metadata": {}
        }
      ]
    },
    {
      "cell_type": "markdown",
      "source": [
        "\n",
        "\n",
        "---\n",
        "\n"
      ],
      "metadata": {
        "id": "NXIV0p0Xlfe5"
      }
    },
    {
      "cell_type": "markdown",
      "source": [
        "## Tuning the Parameters"
      ],
      "metadata": {
        "id": "93PjcDTAlg-_"
      }
    },
    {
      "cell_type": "markdown",
      "source": [
        "**Tuning parameters** are settings within a model that can be manually adjusted by the user to optimize the model's performance for a specific problem.  Tuning parameters can be thought of as fine-tuning the model's behavior in order to obtain better results.\n",
        "\n",
        "Relevant tuning parameters that could be adjusted in this nueral net include:\n",
        "\n",
        "Model Specification:\n",
        "* Adjusting the number of hidden layers\n",
        "* Adjusting the number of nodes for the hidden layers\n",
        "* Use a different activiation function\n",
        "* Use a different kernel_initializer\n",
        "\n",
        "Compliler Specification:\n",
        "* Use a different optimizer for the gradient decent\n",
        "* Consider changing the learning rate - the learning rate specifies to what degree the weights are allowed to change from one iteration to the next\n",
        "\n",
        "Model Fitting:\n",
        "* Adjust the number of epochs\n",
        "* Adjust the batch_size\n"
      ],
      "metadata": {
        "id": "1nFPU_TMlyfn"
      }
    },
    {
      "cell_type": "markdown",
      "source": [
        "\n",
        "\n",
        "---\n",
        "\n",
        "\n",
        "\n",
        "---\n",
        "\n",
        "\n",
        "The End...\n",
        "\n"
      ],
      "metadata": {
        "id": "D-WSytxHqoUH"
      }
    }
  ]
}